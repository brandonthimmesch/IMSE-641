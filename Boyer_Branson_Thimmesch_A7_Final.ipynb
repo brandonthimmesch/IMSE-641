{
  "nbformat": 4,
  "nbformat_minor": 0,
  "metadata": {
    "colab": {
      "provenance": []
    },
    "kernelspec": {
      "name": "python3",
      "display_name": "Python 3"
    },
    "language_info": {
      "name": "python"
    }
  },
  "cells": [
    {
      "cell_type": "markdown",
      "source": [
        "# Importing libraries"
      ],
      "metadata": {
        "id": "6WYMEi244xQC"
      }
    },
    {
      "cell_type": "code",
      "execution_count": null,
      "metadata": {
        "id": "QOW-8tK1Pen-"
      },
      "outputs": [],
      "source": [
        "import io\n",
        "import pandas as pd\n",
        "import numpy as np\n",
        "import math\n",
        "import statistics\n",
        "import scipy.stats\n",
        "import matplotlib.pyplot as plt\n",
        "\n",
        "from google.colab import files"
      ]
    },
    {
      "cell_type": "markdown",
      "source": [
        "# Importing data"
      ],
      "metadata": {
        "id": "ZVagj-hL42Mi"
      }
    },
    {
      "cell_type": "code",
      "source": [
        "data = files.upload()"
      ],
      "metadata": {
        "colab": {
          "base_uri": "https://localhost:8080/",
          "height": 69
        },
        "id": "_6PM7aQCPypP",
        "outputId": "768a5110-2bd3-480f-e56e-d33eff2a480c"
      },
      "execution_count": null,
      "outputs": [
        {
          "output_type": "display_data",
          "data": {
            "text/plain": [
              "<IPython.core.display.HTML object>"
            ],
            "text/html": [
              "\n",
              "     <input type=\"file\" id=\"files-364fbe83-794a-489c-aa50-44c7e7f14833\" name=\"files[]\" multiple disabled\n",
              "        style=\"border:none\" />\n",
              "     <output id=\"result-364fbe83-794a-489c-aa50-44c7e7f14833\">\n",
              "      Upload widget is only available when the cell has been executed in the\n",
              "      current browser session. Please rerun this cell to enable.\n",
              "      </output>\n",
              "      <script>// Copyright 2017 Google LLC\n",
              "//\n",
              "// Licensed under the Apache License, Version 2.0 (the \"License\");\n",
              "// you may not use this file except in compliance with the License.\n",
              "// You may obtain a copy of the License at\n",
              "//\n",
              "//      http://www.apache.org/licenses/LICENSE-2.0\n",
              "//\n",
              "// Unless required by applicable law or agreed to in writing, software\n",
              "// distributed under the License is distributed on an \"AS IS\" BASIS,\n",
              "// WITHOUT WARRANTIES OR CONDITIONS OF ANY KIND, either express or implied.\n",
              "// See the License for the specific language governing permissions and\n",
              "// limitations under the License.\n",
              "\n",
              "/**\n",
              " * @fileoverview Helpers for google.colab Python module.\n",
              " */\n",
              "(function(scope) {\n",
              "function span(text, styleAttributes = {}) {\n",
              "  const element = document.createElement('span');\n",
              "  element.textContent = text;\n",
              "  for (const key of Object.keys(styleAttributes)) {\n",
              "    element.style[key] = styleAttributes[key];\n",
              "  }\n",
              "  return element;\n",
              "}\n",
              "\n",
              "// Max number of bytes which will be uploaded at a time.\n",
              "const MAX_PAYLOAD_SIZE = 100 * 1024;\n",
              "\n",
              "function _uploadFiles(inputId, outputId) {\n",
              "  const steps = uploadFilesStep(inputId, outputId);\n",
              "  const outputElement = document.getElementById(outputId);\n",
              "  // Cache steps on the outputElement to make it available for the next call\n",
              "  // to uploadFilesContinue from Python.\n",
              "  outputElement.steps = steps;\n",
              "\n",
              "  return _uploadFilesContinue(outputId);\n",
              "}\n",
              "\n",
              "// This is roughly an async generator (not supported in the browser yet),\n",
              "// where there are multiple asynchronous steps and the Python side is going\n",
              "// to poll for completion of each step.\n",
              "// This uses a Promise to block the python side on completion of each step,\n",
              "// then passes the result of the previous step as the input to the next step.\n",
              "function _uploadFilesContinue(outputId) {\n",
              "  const outputElement = document.getElementById(outputId);\n",
              "  const steps = outputElement.steps;\n",
              "\n",
              "  const next = steps.next(outputElement.lastPromiseValue);\n",
              "  return Promise.resolve(next.value.promise).then((value) => {\n",
              "    // Cache the last promise value to make it available to the next\n",
              "    // step of the generator.\n",
              "    outputElement.lastPromiseValue = value;\n",
              "    return next.value.response;\n",
              "  });\n",
              "}\n",
              "\n",
              "/**\n",
              " * Generator function which is called between each async step of the upload\n",
              " * process.\n",
              " * @param {string} inputId Element ID of the input file picker element.\n",
              " * @param {string} outputId Element ID of the output display.\n",
              " * @return {!Iterable<!Object>} Iterable of next steps.\n",
              " */\n",
              "function* uploadFilesStep(inputId, outputId) {\n",
              "  const inputElement = document.getElementById(inputId);\n",
              "  inputElement.disabled = false;\n",
              "\n",
              "  const outputElement = document.getElementById(outputId);\n",
              "  outputElement.innerHTML = '';\n",
              "\n",
              "  const pickedPromise = new Promise((resolve) => {\n",
              "    inputElement.addEventListener('change', (e) => {\n",
              "      resolve(e.target.files);\n",
              "    });\n",
              "  });\n",
              "\n",
              "  const cancel = document.createElement('button');\n",
              "  inputElement.parentElement.appendChild(cancel);\n",
              "  cancel.textContent = 'Cancel upload';\n",
              "  const cancelPromise = new Promise((resolve) => {\n",
              "    cancel.onclick = () => {\n",
              "      resolve(null);\n",
              "    };\n",
              "  });\n",
              "\n",
              "  // Wait for the user to pick the files.\n",
              "  const files = yield {\n",
              "    promise: Promise.race([pickedPromise, cancelPromise]),\n",
              "    response: {\n",
              "      action: 'starting',\n",
              "    }\n",
              "  };\n",
              "\n",
              "  cancel.remove();\n",
              "\n",
              "  // Disable the input element since further picks are not allowed.\n",
              "  inputElement.disabled = true;\n",
              "\n",
              "  if (!files) {\n",
              "    return {\n",
              "      response: {\n",
              "        action: 'complete',\n",
              "      }\n",
              "    };\n",
              "  }\n",
              "\n",
              "  for (const file of files) {\n",
              "    const li = document.createElement('li');\n",
              "    li.append(span(file.name, {fontWeight: 'bold'}));\n",
              "    li.append(span(\n",
              "        `(${file.type || 'n/a'}) - ${file.size} bytes, ` +\n",
              "        `last modified: ${\n",
              "            file.lastModifiedDate ? file.lastModifiedDate.toLocaleDateString() :\n",
              "                                    'n/a'} - `));\n",
              "    const percent = span('0% done');\n",
              "    li.appendChild(percent);\n",
              "\n",
              "    outputElement.appendChild(li);\n",
              "\n",
              "    const fileDataPromise = new Promise((resolve) => {\n",
              "      const reader = new FileReader();\n",
              "      reader.onload = (e) => {\n",
              "        resolve(e.target.result);\n",
              "      };\n",
              "      reader.readAsArrayBuffer(file);\n",
              "    });\n",
              "    // Wait for the data to be ready.\n",
              "    let fileData = yield {\n",
              "      promise: fileDataPromise,\n",
              "      response: {\n",
              "        action: 'continue',\n",
              "      }\n",
              "    };\n",
              "\n",
              "    // Use a chunked sending to avoid message size limits. See b/62115660.\n",
              "    let position = 0;\n",
              "    do {\n",
              "      const length = Math.min(fileData.byteLength - position, MAX_PAYLOAD_SIZE);\n",
              "      const chunk = new Uint8Array(fileData, position, length);\n",
              "      position += length;\n",
              "\n",
              "      const base64 = btoa(String.fromCharCode.apply(null, chunk));\n",
              "      yield {\n",
              "        response: {\n",
              "          action: 'append',\n",
              "          file: file.name,\n",
              "          data: base64,\n",
              "        },\n",
              "      };\n",
              "\n",
              "      let percentDone = fileData.byteLength === 0 ?\n",
              "          100 :\n",
              "          Math.round((position / fileData.byteLength) * 100);\n",
              "      percent.textContent = `${percentDone}% done`;\n",
              "\n",
              "    } while (position < fileData.byteLength);\n",
              "  }\n",
              "\n",
              "  // All done.\n",
              "  yield {\n",
              "    response: {\n",
              "      action: 'complete',\n",
              "    }\n",
              "  };\n",
              "}\n",
              "\n",
              "scope.google = scope.google || {};\n",
              "scope.google.colab = scope.google.colab || {};\n",
              "scope.google.colab._files = {\n",
              "  _uploadFiles,\n",
              "  _uploadFilesContinue,\n",
              "};\n",
              "})(self);\n",
              "</script> "
            ]
          },
          "metadata": {}
        },
        {
          "output_type": "stream",
          "name": "stdout",
          "text": [
            "Saving 243_layers_w_defect_641.csv to 243_layers_w_defect_641.csv\n"
          ]
        }
      ]
    },
    {
      "cell_type": "code",
      "source": [
        "data = '243_layers_w_defect_641.csv'\n",
        "\n",
        "data = pd.read_csv(data, sep=',')\n",
        "\n",
        "data"
      ],
      "metadata": {
        "id": "VYF-KNXiY-LL",
        "colab": {
          "base_uri": "https://localhost:8080/",
          "height": 424
        },
        "outputId": "fbc24b49-cee3-423c-9131-c014f8075895"
      },
      "execution_count": null,
      "outputs": [
        {
          "output_type": "execute_result",
          "data": {
            "text/plain": [
              "     Unnamed: 0  s_d2  s_d3  s_d4  s_d5  s_d6  s_d7  s_d8  s_d9  s_d10  s_d12  \\\n",
              "0             0     0     0     0     0     0     0     0     0      2     77   \n",
              "1             1   383   394   372   329   330   338   298   339    409    497   \n",
              "2             2   260   212   214   211   170   231   223   272    216    582   \n",
              "3             3   298   288   252   260   244   328   284   375    269    600   \n",
              "4             4   309   252   255   264   226   295   257   334    246    612   \n",
              "..          ...   ...   ...   ...   ...   ...   ...   ...   ...    ...    ...   \n",
              "238         238   729   656   687   633   593   724   641   695    664    771   \n",
              "239         239   758   642   672   639   586   754   628   671    688    765   \n",
              "240         240   693   649   660   596   543   724   641   655    647    824   \n",
              "241         241   651   638   666   578   590   770   633   651    634    779   \n",
              "242         242   675   655   669   601   584   742   620   667    668    815   \n",
              "\n",
              "     s_d16  s_d19  s_d20  s_d23  s_d24  s_d26  s_d28  \n",
              "0       62     62     62     67     62     67     62  \n",
              "1      567    552    616    587    588    571    621  \n",
              "2      591    568    575    569    570    587    530  \n",
              "3      625    596    650    573    617    649    590  \n",
              "4      642    591    653    595    615    645    582  \n",
              "..     ...    ...    ...    ...    ...    ...    ...  \n",
              "238    861    827   2427   2249    758    791    786  \n",
              "239    880    790   2431   2268    732    784    739  \n",
              "240    811    828   3367   2219    768    774    789  \n",
              "241    838    818   3444   2270    767    793    785  \n",
              "242    885    830   3349   2262    736    785    830  \n",
              "\n",
              "[243 rows x 18 columns]"
            ],
            "text/html": [
              "\n",
              "  <div id=\"df-42091c0b-d1cf-4e36-b971-f2af975e3cc6\" class=\"colab-df-container\">\n",
              "    <div>\n",
              "<style scoped>\n",
              "    .dataframe tbody tr th:only-of-type {\n",
              "        vertical-align: middle;\n",
              "    }\n",
              "\n",
              "    .dataframe tbody tr th {\n",
              "        vertical-align: top;\n",
              "    }\n",
              "\n",
              "    .dataframe thead th {\n",
              "        text-align: right;\n",
              "    }\n",
              "</style>\n",
              "<table border=\"1\" class=\"dataframe\">\n",
              "  <thead>\n",
              "    <tr style=\"text-align: right;\">\n",
              "      <th></th>\n",
              "      <th>Unnamed: 0</th>\n",
              "      <th>s_d2</th>\n",
              "      <th>s_d3</th>\n",
              "      <th>s_d4</th>\n",
              "      <th>s_d5</th>\n",
              "      <th>s_d6</th>\n",
              "      <th>s_d7</th>\n",
              "      <th>s_d8</th>\n",
              "      <th>s_d9</th>\n",
              "      <th>s_d10</th>\n",
              "      <th>s_d12</th>\n",
              "      <th>s_d16</th>\n",
              "      <th>s_d19</th>\n",
              "      <th>s_d20</th>\n",
              "      <th>s_d23</th>\n",
              "      <th>s_d24</th>\n",
              "      <th>s_d26</th>\n",
              "      <th>s_d28</th>\n",
              "    </tr>\n",
              "  </thead>\n",
              "  <tbody>\n",
              "    <tr>\n",
              "      <th>0</th>\n",
              "      <td>0</td>\n",
              "      <td>0</td>\n",
              "      <td>0</td>\n",
              "      <td>0</td>\n",
              "      <td>0</td>\n",
              "      <td>0</td>\n",
              "      <td>0</td>\n",
              "      <td>0</td>\n",
              "      <td>0</td>\n",
              "      <td>2</td>\n",
              "      <td>77</td>\n",
              "      <td>62</td>\n",
              "      <td>62</td>\n",
              "      <td>62</td>\n",
              "      <td>67</td>\n",
              "      <td>62</td>\n",
              "      <td>67</td>\n",
              "      <td>62</td>\n",
              "    </tr>\n",
              "    <tr>\n",
              "      <th>1</th>\n",
              "      <td>1</td>\n",
              "      <td>383</td>\n",
              "      <td>394</td>\n",
              "      <td>372</td>\n",
              "      <td>329</td>\n",
              "      <td>330</td>\n",
              "      <td>338</td>\n",
              "      <td>298</td>\n",
              "      <td>339</td>\n",
              "      <td>409</td>\n",
              "      <td>497</td>\n",
              "      <td>567</td>\n",
              "      <td>552</td>\n",
              "      <td>616</td>\n",
              "      <td>587</td>\n",
              "      <td>588</td>\n",
              "      <td>571</td>\n",
              "      <td>621</td>\n",
              "    </tr>\n",
              "    <tr>\n",
              "      <th>2</th>\n",
              "      <td>2</td>\n",
              "      <td>260</td>\n",
              "      <td>212</td>\n",
              "      <td>214</td>\n",
              "      <td>211</td>\n",
              "      <td>170</td>\n",
              "      <td>231</td>\n",
              "      <td>223</td>\n",
              "      <td>272</td>\n",
              "      <td>216</td>\n",
              "      <td>582</td>\n",
              "      <td>591</td>\n",
              "      <td>568</td>\n",
              "      <td>575</td>\n",
              "      <td>569</td>\n",
              "      <td>570</td>\n",
              "      <td>587</td>\n",
              "      <td>530</td>\n",
              "    </tr>\n",
              "    <tr>\n",
              "      <th>3</th>\n",
              "      <td>3</td>\n",
              "      <td>298</td>\n",
              "      <td>288</td>\n",
              "      <td>252</td>\n",
              "      <td>260</td>\n",
              "      <td>244</td>\n",
              "      <td>328</td>\n",
              "      <td>284</td>\n",
              "      <td>375</td>\n",
              "      <td>269</td>\n",
              "      <td>600</td>\n",
              "      <td>625</td>\n",
              "      <td>596</td>\n",
              "      <td>650</td>\n",
              "      <td>573</td>\n",
              "      <td>617</td>\n",
              "      <td>649</td>\n",
              "      <td>590</td>\n",
              "    </tr>\n",
              "    <tr>\n",
              "      <th>4</th>\n",
              "      <td>4</td>\n",
              "      <td>309</td>\n",
              "      <td>252</td>\n",
              "      <td>255</td>\n",
              "      <td>264</td>\n",
              "      <td>226</td>\n",
              "      <td>295</td>\n",
              "      <td>257</td>\n",
              "      <td>334</td>\n",
              "      <td>246</td>\n",
              "      <td>612</td>\n",
              "      <td>642</td>\n",
              "      <td>591</td>\n",
              "      <td>653</td>\n",
              "      <td>595</td>\n",
              "      <td>615</td>\n",
              "      <td>645</td>\n",
              "      <td>582</td>\n",
              "    </tr>\n",
              "    <tr>\n",
              "      <th>...</th>\n",
              "      <td>...</td>\n",
              "      <td>...</td>\n",
              "      <td>...</td>\n",
              "      <td>...</td>\n",
              "      <td>...</td>\n",
              "      <td>...</td>\n",
              "      <td>...</td>\n",
              "      <td>...</td>\n",
              "      <td>...</td>\n",
              "      <td>...</td>\n",
              "      <td>...</td>\n",
              "      <td>...</td>\n",
              "      <td>...</td>\n",
              "      <td>...</td>\n",
              "      <td>...</td>\n",
              "      <td>...</td>\n",
              "      <td>...</td>\n",
              "      <td>...</td>\n",
              "    </tr>\n",
              "    <tr>\n",
              "      <th>238</th>\n",
              "      <td>238</td>\n",
              "      <td>729</td>\n",
              "      <td>656</td>\n",
              "      <td>687</td>\n",
              "      <td>633</td>\n",
              "      <td>593</td>\n",
              "      <td>724</td>\n",
              "      <td>641</td>\n",
              "      <td>695</td>\n",
              "      <td>664</td>\n",
              "      <td>771</td>\n",
              "      <td>861</td>\n",
              "      <td>827</td>\n",
              "      <td>2427</td>\n",
              "      <td>2249</td>\n",
              "      <td>758</td>\n",
              "      <td>791</td>\n",
              "      <td>786</td>\n",
              "    </tr>\n",
              "    <tr>\n",
              "      <th>239</th>\n",
              "      <td>239</td>\n",
              "      <td>758</td>\n",
              "      <td>642</td>\n",
              "      <td>672</td>\n",
              "      <td>639</td>\n",
              "      <td>586</td>\n",
              "      <td>754</td>\n",
              "      <td>628</td>\n",
              "      <td>671</td>\n",
              "      <td>688</td>\n",
              "      <td>765</td>\n",
              "      <td>880</td>\n",
              "      <td>790</td>\n",
              "      <td>2431</td>\n",
              "      <td>2268</td>\n",
              "      <td>732</td>\n",
              "      <td>784</td>\n",
              "      <td>739</td>\n",
              "    </tr>\n",
              "    <tr>\n",
              "      <th>240</th>\n",
              "      <td>240</td>\n",
              "      <td>693</td>\n",
              "      <td>649</td>\n",
              "      <td>660</td>\n",
              "      <td>596</td>\n",
              "      <td>543</td>\n",
              "      <td>724</td>\n",
              "      <td>641</td>\n",
              "      <td>655</td>\n",
              "      <td>647</td>\n",
              "      <td>824</td>\n",
              "      <td>811</td>\n",
              "      <td>828</td>\n",
              "      <td>3367</td>\n",
              "      <td>2219</td>\n",
              "      <td>768</td>\n",
              "      <td>774</td>\n",
              "      <td>789</td>\n",
              "    </tr>\n",
              "    <tr>\n",
              "      <th>241</th>\n",
              "      <td>241</td>\n",
              "      <td>651</td>\n",
              "      <td>638</td>\n",
              "      <td>666</td>\n",
              "      <td>578</td>\n",
              "      <td>590</td>\n",
              "      <td>770</td>\n",
              "      <td>633</td>\n",
              "      <td>651</td>\n",
              "      <td>634</td>\n",
              "      <td>779</td>\n",
              "      <td>838</td>\n",
              "      <td>818</td>\n",
              "      <td>3444</td>\n",
              "      <td>2270</td>\n",
              "      <td>767</td>\n",
              "      <td>793</td>\n",
              "      <td>785</td>\n",
              "    </tr>\n",
              "    <tr>\n",
              "      <th>242</th>\n",
              "      <td>242</td>\n",
              "      <td>675</td>\n",
              "      <td>655</td>\n",
              "      <td>669</td>\n",
              "      <td>601</td>\n",
              "      <td>584</td>\n",
              "      <td>742</td>\n",
              "      <td>620</td>\n",
              "      <td>667</td>\n",
              "      <td>668</td>\n",
              "      <td>815</td>\n",
              "      <td>885</td>\n",
              "      <td>830</td>\n",
              "      <td>3349</td>\n",
              "      <td>2262</td>\n",
              "      <td>736</td>\n",
              "      <td>785</td>\n",
              "      <td>830</td>\n",
              "    </tr>\n",
              "  </tbody>\n",
              "</table>\n",
              "<p>243 rows × 18 columns</p>\n",
              "</div>\n",
              "    <div class=\"colab-df-buttons\">\n",
              "\n",
              "  <div class=\"colab-df-container\">\n",
              "    <button class=\"colab-df-convert\" onclick=\"convertToInteractive('df-42091c0b-d1cf-4e36-b971-f2af975e3cc6')\"\n",
              "            title=\"Convert this dataframe to an interactive table.\"\n",
              "            style=\"display:none;\">\n",
              "\n",
              "  <svg xmlns=\"http://www.w3.org/2000/svg\" height=\"24px\" viewBox=\"0 -960 960 960\">\n",
              "    <path d=\"M120-120v-720h720v720H120Zm60-500h600v-160H180v160Zm220 220h160v-160H400v160Zm0 220h160v-160H400v160ZM180-400h160v-160H180v160Zm440 0h160v-160H620v160ZM180-180h160v-160H180v160Zm440 0h160v-160H620v160Z\"/>\n",
              "  </svg>\n",
              "    </button>\n",
              "\n",
              "  <style>\n",
              "    .colab-df-container {\n",
              "      display:flex;\n",
              "      gap: 12px;\n",
              "    }\n",
              "\n",
              "    .colab-df-convert {\n",
              "      background-color: #E8F0FE;\n",
              "      border: none;\n",
              "      border-radius: 50%;\n",
              "      cursor: pointer;\n",
              "      display: none;\n",
              "      fill: #1967D2;\n",
              "      height: 32px;\n",
              "      padding: 0 0 0 0;\n",
              "      width: 32px;\n",
              "    }\n",
              "\n",
              "    .colab-df-convert:hover {\n",
              "      background-color: #E2EBFA;\n",
              "      box-shadow: 0px 1px 2px rgba(60, 64, 67, 0.3), 0px 1px 3px 1px rgba(60, 64, 67, 0.15);\n",
              "      fill: #174EA6;\n",
              "    }\n",
              "\n",
              "    .colab-df-buttons div {\n",
              "      margin-bottom: 4px;\n",
              "    }\n",
              "\n",
              "    [theme=dark] .colab-df-convert {\n",
              "      background-color: #3B4455;\n",
              "      fill: #D2E3FC;\n",
              "    }\n",
              "\n",
              "    [theme=dark] .colab-df-convert:hover {\n",
              "      background-color: #434B5C;\n",
              "      box-shadow: 0px 1px 3px 1px rgba(0, 0, 0, 0.15);\n",
              "      filter: drop-shadow(0px 1px 2px rgba(0, 0, 0, 0.3));\n",
              "      fill: #FFFFFF;\n",
              "    }\n",
              "  </style>\n",
              "\n",
              "    <script>\n",
              "      const buttonEl =\n",
              "        document.querySelector('#df-42091c0b-d1cf-4e36-b971-f2af975e3cc6 button.colab-df-convert');\n",
              "      buttonEl.style.display =\n",
              "        google.colab.kernel.accessAllowed ? 'block' : 'none';\n",
              "\n",
              "      async function convertToInteractive(key) {\n",
              "        const element = document.querySelector('#df-42091c0b-d1cf-4e36-b971-f2af975e3cc6');\n",
              "        const dataTable =\n",
              "          await google.colab.kernel.invokeFunction('convertToInteractive',\n",
              "                                                    [key], {});\n",
              "        if (!dataTable) return;\n",
              "\n",
              "        const docLinkHtml = 'Like what you see? Visit the ' +\n",
              "          '<a target=\"_blank\" href=https://colab.research.google.com/notebooks/data_table.ipynb>data table notebook</a>'\n",
              "          + ' to learn more about interactive tables.';\n",
              "        element.innerHTML = '';\n",
              "        dataTable['output_type'] = 'display_data';\n",
              "        await google.colab.output.renderOutput(dataTable, element);\n",
              "        const docLink = document.createElement('div');\n",
              "        docLink.innerHTML = docLinkHtml;\n",
              "        element.appendChild(docLink);\n",
              "      }\n",
              "    </script>\n",
              "  </div>\n",
              "\n",
              "\n",
              "<div id=\"df-67e5d3ba-74a0-46e4-b5c5-1b596a1d0ff1\">\n",
              "  <button class=\"colab-df-quickchart\" onclick=\"quickchart('df-67e5d3ba-74a0-46e4-b5c5-1b596a1d0ff1')\"\n",
              "            title=\"Suggest charts\"\n",
              "            style=\"display:none;\">\n",
              "\n",
              "<svg xmlns=\"http://www.w3.org/2000/svg\" height=\"24px\"viewBox=\"0 0 24 24\"\n",
              "     width=\"24px\">\n",
              "    <g>\n",
              "        <path d=\"M19 3H5c-1.1 0-2 .9-2 2v14c0 1.1.9 2 2 2h14c1.1 0 2-.9 2-2V5c0-1.1-.9-2-2-2zM9 17H7v-7h2v7zm4 0h-2V7h2v10zm4 0h-2v-4h2v4z\"/>\n",
              "    </g>\n",
              "</svg>\n",
              "  </button>\n",
              "\n",
              "<style>\n",
              "  .colab-df-quickchart {\n",
              "      --bg-color: #E8F0FE;\n",
              "      --fill-color: #1967D2;\n",
              "      --hover-bg-color: #E2EBFA;\n",
              "      --hover-fill-color: #174EA6;\n",
              "      --disabled-fill-color: #AAA;\n",
              "      --disabled-bg-color: #DDD;\n",
              "  }\n",
              "\n",
              "  [theme=dark] .colab-df-quickchart {\n",
              "      --bg-color: #3B4455;\n",
              "      --fill-color: #D2E3FC;\n",
              "      --hover-bg-color: #434B5C;\n",
              "      --hover-fill-color: #FFFFFF;\n",
              "      --disabled-bg-color: #3B4455;\n",
              "      --disabled-fill-color: #666;\n",
              "  }\n",
              "\n",
              "  .colab-df-quickchart {\n",
              "    background-color: var(--bg-color);\n",
              "    border: none;\n",
              "    border-radius: 50%;\n",
              "    cursor: pointer;\n",
              "    display: none;\n",
              "    fill: var(--fill-color);\n",
              "    height: 32px;\n",
              "    padding: 0;\n",
              "    width: 32px;\n",
              "  }\n",
              "\n",
              "  .colab-df-quickchart:hover {\n",
              "    background-color: var(--hover-bg-color);\n",
              "    box-shadow: 0 1px 2px rgba(60, 64, 67, 0.3), 0 1px 3px 1px rgba(60, 64, 67, 0.15);\n",
              "    fill: var(--button-hover-fill-color);\n",
              "  }\n",
              "\n",
              "  .colab-df-quickchart-complete:disabled,\n",
              "  .colab-df-quickchart-complete:disabled:hover {\n",
              "    background-color: var(--disabled-bg-color);\n",
              "    fill: var(--disabled-fill-color);\n",
              "    box-shadow: none;\n",
              "  }\n",
              "\n",
              "  .colab-df-spinner {\n",
              "    border: 2px solid var(--fill-color);\n",
              "    border-color: transparent;\n",
              "    border-bottom-color: var(--fill-color);\n",
              "    animation:\n",
              "      spin 1s steps(1) infinite;\n",
              "  }\n",
              "\n",
              "  @keyframes spin {\n",
              "    0% {\n",
              "      border-color: transparent;\n",
              "      border-bottom-color: var(--fill-color);\n",
              "      border-left-color: var(--fill-color);\n",
              "    }\n",
              "    20% {\n",
              "      border-color: transparent;\n",
              "      border-left-color: var(--fill-color);\n",
              "      border-top-color: var(--fill-color);\n",
              "    }\n",
              "    30% {\n",
              "      border-color: transparent;\n",
              "      border-left-color: var(--fill-color);\n",
              "      border-top-color: var(--fill-color);\n",
              "      border-right-color: var(--fill-color);\n",
              "    }\n",
              "    40% {\n",
              "      border-color: transparent;\n",
              "      border-right-color: var(--fill-color);\n",
              "      border-top-color: var(--fill-color);\n",
              "    }\n",
              "    60% {\n",
              "      border-color: transparent;\n",
              "      border-right-color: var(--fill-color);\n",
              "    }\n",
              "    80% {\n",
              "      border-color: transparent;\n",
              "      border-right-color: var(--fill-color);\n",
              "      border-bottom-color: var(--fill-color);\n",
              "    }\n",
              "    90% {\n",
              "      border-color: transparent;\n",
              "      border-bottom-color: var(--fill-color);\n",
              "    }\n",
              "  }\n",
              "</style>\n",
              "\n",
              "  <script>\n",
              "    async function quickchart(key) {\n",
              "      const quickchartButtonEl =\n",
              "        document.querySelector('#' + key + ' button');\n",
              "      quickchartButtonEl.disabled = true;  // To prevent multiple clicks.\n",
              "      quickchartButtonEl.classList.add('colab-df-spinner');\n",
              "      try {\n",
              "        const charts = await google.colab.kernel.invokeFunction(\n",
              "            'suggestCharts', [key], {});\n",
              "      } catch (error) {\n",
              "        console.error('Error during call to suggestCharts:', error);\n",
              "      }\n",
              "      quickchartButtonEl.classList.remove('colab-df-spinner');\n",
              "      quickchartButtonEl.classList.add('colab-df-quickchart-complete');\n",
              "    }\n",
              "    (() => {\n",
              "      let quickchartButtonEl =\n",
              "        document.querySelector('#df-67e5d3ba-74a0-46e4-b5c5-1b596a1d0ff1 button');\n",
              "      quickchartButtonEl.style.display =\n",
              "        google.colab.kernel.accessAllowed ? 'block' : 'none';\n",
              "    })();\n",
              "  </script>\n",
              "</div>\n",
              "\n",
              "  <div id=\"id_3ec9e178-a7a6-46b1-abe2-d009613ac4b6\">\n",
              "    <style>\n",
              "      .colab-df-generate {\n",
              "        background-color: #E8F0FE;\n",
              "        border: none;\n",
              "        border-radius: 50%;\n",
              "        cursor: pointer;\n",
              "        display: none;\n",
              "        fill: #1967D2;\n",
              "        height: 32px;\n",
              "        padding: 0 0 0 0;\n",
              "        width: 32px;\n",
              "      }\n",
              "\n",
              "      .colab-df-generate:hover {\n",
              "        background-color: #E2EBFA;\n",
              "        box-shadow: 0px 1px 2px rgba(60, 64, 67, 0.3), 0px 1px 3px 1px rgba(60, 64, 67, 0.15);\n",
              "        fill: #174EA6;\n",
              "      }\n",
              "\n",
              "      [theme=dark] .colab-df-generate {\n",
              "        background-color: #3B4455;\n",
              "        fill: #D2E3FC;\n",
              "      }\n",
              "\n",
              "      [theme=dark] .colab-df-generate:hover {\n",
              "        background-color: #434B5C;\n",
              "        box-shadow: 0px 1px 3px 1px rgba(0, 0, 0, 0.15);\n",
              "        filter: drop-shadow(0px 1px 2px rgba(0, 0, 0, 0.3));\n",
              "        fill: #FFFFFF;\n",
              "      }\n",
              "    </style>\n",
              "    <button class=\"colab-df-generate\" onclick=\"generateWithVariable('data')\"\n",
              "            title=\"Generate code using this dataframe.\"\n",
              "            style=\"display:none;\">\n",
              "\n",
              "  <svg xmlns=\"http://www.w3.org/2000/svg\" height=\"24px\"viewBox=\"0 0 24 24\"\n",
              "       width=\"24px\">\n",
              "    <path d=\"M7,19H8.4L18.45,9,17,7.55,7,17.6ZM5,21V16.75L18.45,3.32a2,2,0,0,1,2.83,0l1.4,1.43a1.91,1.91,0,0,1,.58,1.4,1.91,1.91,0,0,1-.58,1.4L9.25,21ZM18.45,9,17,7.55Zm-12,3A5.31,5.31,0,0,0,4.9,8.1,5.31,5.31,0,0,0,1,6.5,5.31,5.31,0,0,0,4.9,4.9,5.31,5.31,0,0,0,6.5,1,5.31,5.31,0,0,0,8.1,4.9,5.31,5.31,0,0,0,12,6.5,5.46,5.46,0,0,0,6.5,12Z\"/>\n",
              "  </svg>\n",
              "    </button>\n",
              "    <script>\n",
              "      (() => {\n",
              "      const buttonEl =\n",
              "        document.querySelector('#id_3ec9e178-a7a6-46b1-abe2-d009613ac4b6 button.colab-df-generate');\n",
              "      buttonEl.style.display =\n",
              "        google.colab.kernel.accessAllowed ? 'block' : 'none';\n",
              "\n",
              "      buttonEl.onclick = () => {\n",
              "        google.colab.notebook.generateWithVariable('data');\n",
              "      }\n",
              "      })();\n",
              "    </script>\n",
              "  </div>\n",
              "\n",
              "    </div>\n",
              "  </div>\n"
            ],
            "application/vnd.google.colaboratory.intrinsic+json": {
              "type": "dataframe",
              "variable_name": "data",
              "summary": "{\n  \"name\": \"data\",\n  \"rows\": 243,\n  \"fields\": [\n    {\n      \"column\": \"Unnamed: 0\",\n      \"properties\": {\n        \"dtype\": \"number\",\n        \"std\": 70,\n        \"min\": 0,\n        \"max\": 242,\n        \"num_unique_values\": 243,\n        \"samples\": [\n          24,\n          6,\n          152\n        ],\n        \"semantic_type\": \"\",\n        \"description\": \"\"\n      }\n    },\n    {\n      \"column\": \"s_d2\",\n      \"properties\": {\n        \"dtype\": \"number\",\n        \"std\": 139,\n        \"min\": 0,\n        \"max\": 848,\n        \"num_unique_values\": 165,\n        \"samples\": [\n          676,\n          473,\n          635\n        ],\n        \"semantic_type\": \"\",\n        \"description\": \"\"\n      }\n    },\n    {\n      \"column\": \"s_d3\",\n      \"properties\": {\n        \"dtype\": \"number\",\n        \"std\": 117,\n        \"min\": 0,\n        \"max\": 703,\n        \"num_unique_values\": 165,\n        \"samples\": [\n          566,\n          452,\n          496\n        ],\n        \"semantic_type\": \"\",\n        \"description\": \"\"\n      }\n    },\n    {\n      \"column\": \"s_d4\",\n      \"properties\": {\n        \"dtype\": \"number\",\n        \"std\": 130,\n        \"min\": 0,\n        \"max\": 740,\n        \"num_unique_values\": 167,\n        \"samples\": [\n          299,\n          368,\n          315\n        ],\n        \"semantic_type\": \"\",\n        \"description\": \"\"\n      }\n    },\n    {\n      \"column\": \"s_d5\",\n      \"properties\": {\n        \"dtype\": \"number\",\n        \"std\": 116,\n        \"min\": 0,\n        \"max\": 689,\n        \"num_unique_values\": 155,\n        \"samples\": [\n          273,\n          689,\n          337\n        ],\n        \"semantic_type\": \"\",\n        \"description\": \"\"\n      }\n    },\n    {\n      \"column\": \"s_d6\",\n      \"properties\": {\n        \"dtype\": \"number\",\n        \"std\": 112,\n        \"min\": 0,\n        \"max\": 655,\n        \"num_unique_values\": 154,\n        \"samples\": [\n          283,\n          309,\n          590\n        ],\n        \"semantic_type\": \"\",\n        \"description\": \"\"\n      }\n    },\n    {\n      \"column\": \"s_d7\",\n      \"properties\": {\n        \"dtype\": \"number\",\n        \"std\": 130,\n        \"min\": 0,\n        \"max\": 802,\n        \"num_unique_values\": 149,\n        \"samples\": [\n          445,\n          466,\n          546\n        ],\n        \"semantic_type\": \"\",\n        \"description\": \"\"\n      }\n    },\n    {\n      \"column\": \"s_d8\",\n      \"properties\": {\n        \"dtype\": \"number\",\n        \"std\": 118,\n        \"min\": 0,\n        \"max\": 678,\n        \"num_unique_values\": 157,\n        \"samples\": [\n          506,\n          370,\n          525\n        ],\n        \"semantic_type\": \"\",\n        \"description\": \"\"\n      }\n    },\n    {\n      \"column\": \"s_d9\",\n      \"properties\": {\n        \"dtype\": \"number\",\n        \"std\": 115,\n        \"min\": 0,\n        \"max\": 756,\n        \"num_unique_values\": 166,\n        \"samples\": [\n          317,\n          566,\n          378\n        ],\n        \"semantic_type\": \"\",\n        \"description\": \"\"\n      }\n    },\n    {\n      \"column\": \"s_d10\",\n      \"properties\": {\n        \"dtype\": \"number\",\n        \"std\": 134,\n        \"min\": 2,\n        \"max\": 760,\n        \"num_unique_values\": 159,\n        \"samples\": [\n          255,\n          688,\n          609\n        ],\n        \"semantic_type\": \"\",\n        \"description\": \"\"\n      }\n    },\n    {\n      \"column\": \"s_d12\",\n      \"properties\": {\n        \"dtype\": \"number\",\n        \"std\": 120,\n        \"min\": 77,\n        \"max\": 910,\n        \"num_unique_values\": 177,\n        \"samples\": [\n          611,\n          668,\n          738\n        ],\n        \"semantic_type\": \"\",\n        \"description\": \"\"\n      }\n    },\n    {\n      \"column\": \"s_d16\",\n      \"properties\": {\n        \"dtype\": \"number\",\n        \"std\": 145,\n        \"min\": 62,\n        \"max\": 1019,\n        \"num_unique_values\": 176,\n        \"samples\": [\n          633,\n          641,\n          766\n        ],\n        \"semantic_type\": \"\",\n        \"description\": \"\"\n      }\n    },\n    {\n      \"column\": \"s_d19\",\n      \"properties\": {\n        \"dtype\": \"number\",\n        \"std\": 134,\n        \"min\": 62,\n        \"max\": 941,\n        \"num_unique_values\": 178,\n        \"samples\": [\n          625,\n          639,\n          700\n        ],\n        \"semantic_type\": \"\",\n        \"description\": \"\"\n      }\n    },\n    {\n      \"column\": \"s_d20\",\n      \"properties\": {\n        \"dtype\": \"number\",\n        \"std\": 1602,\n        \"min\": 62,\n        \"max\": 5830,\n        \"num_unique_values\": 207,\n        \"samples\": [\n          3717,\n          657,\n          494\n        ],\n        \"semantic_type\": \"\",\n        \"description\": \"\"\n      }\n    },\n    {\n      \"column\": \"s_d23\",\n      \"properties\": {\n        \"dtype\": \"number\",\n        \"std\": 821,\n        \"min\": 67,\n        \"max\": 2942,\n        \"num_unique_values\": 186,\n        \"samples\": [\n          577,\n          2721,\n          2630\n        ],\n        \"semantic_type\": \"\",\n        \"description\": \"\"\n      }\n    },\n    {\n      \"column\": \"s_d24\",\n      \"properties\": {\n        \"dtype\": \"number\",\n        \"std\": 121,\n        \"min\": 62,\n        \"max\": 872,\n        \"num_unique_values\": 172,\n        \"samples\": [\n          446,\n          680,\n          760\n        ],\n        \"semantic_type\": \"\",\n        \"description\": \"\"\n      }\n    },\n    {\n      \"column\": \"s_d26\",\n      \"properties\": {\n        \"dtype\": \"number\",\n        \"std\": 138,\n        \"min\": 67,\n        \"max\": 946,\n        \"num_unique_values\": 177,\n        \"samples\": [\n          664,\n          675,\n          768\n        ],\n        \"semantic_type\": \"\",\n        \"description\": \"\"\n      }\n    },\n    {\n      \"column\": \"s_d28\",\n      \"properties\": {\n        \"dtype\": \"number\",\n        \"std\": 123,\n        \"min\": 62,\n        \"max\": 914,\n        \"num_unique_values\": 166,\n        \"samples\": [\n          489,\n          718,\n          424\n        ],\n        \"semantic_type\": \"\",\n        \"description\": \"\"\n      }\n    }\n  ]\n}"
            }
          },
          "metadata": {},
          "execution_count": 81
        }
      ]
    },
    {
      "cell_type": "markdown",
      "source": [
        "## Defining layer datasets for phases 1 & 2"
      ],
      "metadata": {
        "id": "OBY3BO_y49Iv"
      }
    },
    {
      "cell_type": "code",
      "source": [
        "# defining dataset for layer 100\n",
        "\n",
        "row100 = data.iloc[[100]]\n",
        "\n",
        "row100 = row100.drop(columns = ['Unnamed: 0','s_d16','s_d19','s_d20','s_d23','s_d24','s_d26','s_d28'], axis = 1)\n",
        "\n",
        "row100"
      ],
      "metadata": {
        "colab": {
          "base_uri": "https://localhost:8080/",
          "height": 89
        },
        "id": "Ri-2YTTcxkoT",
        "outputId": "1049fdcb-e9d1-4e94-9ce1-ac828909b878"
      },
      "execution_count": null,
      "outputs": [
        {
          "output_type": "execute_result",
          "data": {
            "text/plain": [
              "     s_d2  s_d3  s_d4  s_d5  s_d6  s_d7  s_d8  s_d9  s_d10  s_d12\n",
              "100   344   355   314   269   282   362   281   318    309    469"
            ],
            "text/html": [
              "\n",
              "  <div id=\"df-1a6295e9-54bb-4cd4-acae-bdd0eb8f6fa4\" class=\"colab-df-container\">\n",
              "    <div>\n",
              "<style scoped>\n",
              "    .dataframe tbody tr th:only-of-type {\n",
              "        vertical-align: middle;\n",
              "    }\n",
              "\n",
              "    .dataframe tbody tr th {\n",
              "        vertical-align: top;\n",
              "    }\n",
              "\n",
              "    .dataframe thead th {\n",
              "        text-align: right;\n",
              "    }\n",
              "</style>\n",
              "<table border=\"1\" class=\"dataframe\">\n",
              "  <thead>\n",
              "    <tr style=\"text-align: right;\">\n",
              "      <th></th>\n",
              "      <th>s_d2</th>\n",
              "      <th>s_d3</th>\n",
              "      <th>s_d4</th>\n",
              "      <th>s_d5</th>\n",
              "      <th>s_d6</th>\n",
              "      <th>s_d7</th>\n",
              "      <th>s_d8</th>\n",
              "      <th>s_d9</th>\n",
              "      <th>s_d10</th>\n",
              "      <th>s_d12</th>\n",
              "    </tr>\n",
              "  </thead>\n",
              "  <tbody>\n",
              "    <tr>\n",
              "      <th>100</th>\n",
              "      <td>344</td>\n",
              "      <td>355</td>\n",
              "      <td>314</td>\n",
              "      <td>269</td>\n",
              "      <td>282</td>\n",
              "      <td>362</td>\n",
              "      <td>281</td>\n",
              "      <td>318</td>\n",
              "      <td>309</td>\n",
              "      <td>469</td>\n",
              "    </tr>\n",
              "  </tbody>\n",
              "</table>\n",
              "</div>\n",
              "    <div class=\"colab-df-buttons\">\n",
              "\n",
              "  <div class=\"colab-df-container\">\n",
              "    <button class=\"colab-df-convert\" onclick=\"convertToInteractive('df-1a6295e9-54bb-4cd4-acae-bdd0eb8f6fa4')\"\n",
              "            title=\"Convert this dataframe to an interactive table.\"\n",
              "            style=\"display:none;\">\n",
              "\n",
              "  <svg xmlns=\"http://www.w3.org/2000/svg\" height=\"24px\" viewBox=\"0 -960 960 960\">\n",
              "    <path d=\"M120-120v-720h720v720H120Zm60-500h600v-160H180v160Zm220 220h160v-160H400v160Zm0 220h160v-160H400v160ZM180-400h160v-160H180v160Zm440 0h160v-160H620v160ZM180-180h160v-160H180v160Zm440 0h160v-160H620v160Z\"/>\n",
              "  </svg>\n",
              "    </button>\n",
              "\n",
              "  <style>\n",
              "    .colab-df-container {\n",
              "      display:flex;\n",
              "      gap: 12px;\n",
              "    }\n",
              "\n",
              "    .colab-df-convert {\n",
              "      background-color: #E8F0FE;\n",
              "      border: none;\n",
              "      border-radius: 50%;\n",
              "      cursor: pointer;\n",
              "      display: none;\n",
              "      fill: #1967D2;\n",
              "      height: 32px;\n",
              "      padding: 0 0 0 0;\n",
              "      width: 32px;\n",
              "    }\n",
              "\n",
              "    .colab-df-convert:hover {\n",
              "      background-color: #E2EBFA;\n",
              "      box-shadow: 0px 1px 2px rgba(60, 64, 67, 0.3), 0px 1px 3px 1px rgba(60, 64, 67, 0.15);\n",
              "      fill: #174EA6;\n",
              "    }\n",
              "\n",
              "    .colab-df-buttons div {\n",
              "      margin-bottom: 4px;\n",
              "    }\n",
              "\n",
              "    [theme=dark] .colab-df-convert {\n",
              "      background-color: #3B4455;\n",
              "      fill: #D2E3FC;\n",
              "    }\n",
              "\n",
              "    [theme=dark] .colab-df-convert:hover {\n",
              "      background-color: #434B5C;\n",
              "      box-shadow: 0px 1px 3px 1px rgba(0, 0, 0, 0.15);\n",
              "      filter: drop-shadow(0px 1px 2px rgba(0, 0, 0, 0.3));\n",
              "      fill: #FFFFFF;\n",
              "    }\n",
              "  </style>\n",
              "\n",
              "    <script>\n",
              "      const buttonEl =\n",
              "        document.querySelector('#df-1a6295e9-54bb-4cd4-acae-bdd0eb8f6fa4 button.colab-df-convert');\n",
              "      buttonEl.style.display =\n",
              "        google.colab.kernel.accessAllowed ? 'block' : 'none';\n",
              "\n",
              "      async function convertToInteractive(key) {\n",
              "        const element = document.querySelector('#df-1a6295e9-54bb-4cd4-acae-bdd0eb8f6fa4');\n",
              "        const dataTable =\n",
              "          await google.colab.kernel.invokeFunction('convertToInteractive',\n",
              "                                                    [key], {});\n",
              "        if (!dataTable) return;\n",
              "\n",
              "        const docLinkHtml = 'Like what you see? Visit the ' +\n",
              "          '<a target=\"_blank\" href=https://colab.research.google.com/notebooks/data_table.ipynb>data table notebook</a>'\n",
              "          + ' to learn more about interactive tables.';\n",
              "        element.innerHTML = '';\n",
              "        dataTable['output_type'] = 'display_data';\n",
              "        await google.colab.output.renderOutput(dataTable, element);\n",
              "        const docLink = document.createElement('div');\n",
              "        docLink.innerHTML = docLinkHtml;\n",
              "        element.appendChild(docLink);\n",
              "      }\n",
              "    </script>\n",
              "  </div>\n",
              "\n",
              "\n",
              "  <div id=\"id_af7d6a3a-178e-4d20-bc61-02992f678c80\">\n",
              "    <style>\n",
              "      .colab-df-generate {\n",
              "        background-color: #E8F0FE;\n",
              "        border: none;\n",
              "        border-radius: 50%;\n",
              "        cursor: pointer;\n",
              "        display: none;\n",
              "        fill: #1967D2;\n",
              "        height: 32px;\n",
              "        padding: 0 0 0 0;\n",
              "        width: 32px;\n",
              "      }\n",
              "\n",
              "      .colab-df-generate:hover {\n",
              "        background-color: #E2EBFA;\n",
              "        box-shadow: 0px 1px 2px rgba(60, 64, 67, 0.3), 0px 1px 3px 1px rgba(60, 64, 67, 0.15);\n",
              "        fill: #174EA6;\n",
              "      }\n",
              "\n",
              "      [theme=dark] .colab-df-generate {\n",
              "        background-color: #3B4455;\n",
              "        fill: #D2E3FC;\n",
              "      }\n",
              "\n",
              "      [theme=dark] .colab-df-generate:hover {\n",
              "        background-color: #434B5C;\n",
              "        box-shadow: 0px 1px 3px 1px rgba(0, 0, 0, 0.15);\n",
              "        filter: drop-shadow(0px 1px 2px rgba(0, 0, 0, 0.3));\n",
              "        fill: #FFFFFF;\n",
              "      }\n",
              "    </style>\n",
              "    <button class=\"colab-df-generate\" onclick=\"generateWithVariable('row100')\"\n",
              "            title=\"Generate code using this dataframe.\"\n",
              "            style=\"display:none;\">\n",
              "\n",
              "  <svg xmlns=\"http://www.w3.org/2000/svg\" height=\"24px\"viewBox=\"0 0 24 24\"\n",
              "       width=\"24px\">\n",
              "    <path d=\"M7,19H8.4L18.45,9,17,7.55,7,17.6ZM5,21V16.75L18.45,3.32a2,2,0,0,1,2.83,0l1.4,1.43a1.91,1.91,0,0,1,.58,1.4,1.91,1.91,0,0,1-.58,1.4L9.25,21ZM18.45,9,17,7.55Zm-12,3A5.31,5.31,0,0,0,4.9,8.1,5.31,5.31,0,0,0,1,6.5,5.31,5.31,0,0,0,4.9,4.9,5.31,5.31,0,0,0,6.5,1,5.31,5.31,0,0,0,8.1,4.9,5.31,5.31,0,0,0,12,6.5,5.46,5.46,0,0,0,6.5,12Z\"/>\n",
              "  </svg>\n",
              "    </button>\n",
              "    <script>\n",
              "      (() => {\n",
              "      const buttonEl =\n",
              "        document.querySelector('#id_af7d6a3a-178e-4d20-bc61-02992f678c80 button.colab-df-generate');\n",
              "      buttonEl.style.display =\n",
              "        google.colab.kernel.accessAllowed ? 'block' : 'none';\n",
              "\n",
              "      buttonEl.onclick = () => {\n",
              "        google.colab.notebook.generateWithVariable('row100');\n",
              "      }\n",
              "      })();\n",
              "    </script>\n",
              "  </div>\n",
              "\n",
              "    </div>\n",
              "  </div>\n"
            ],
            "application/vnd.google.colaboratory.intrinsic+json": {
              "type": "dataframe",
              "variable_name": "row100",
              "summary": "{\n  \"name\": \"row100\",\n  \"rows\": 1,\n  \"fields\": [\n    {\n      \"column\": \"s_d2\",\n      \"properties\": {\n        \"dtype\": \"number\",\n        \"std\": null,\n        \"min\": 344,\n        \"max\": 344,\n        \"num_unique_values\": 1,\n        \"samples\": [\n          344\n        ],\n        \"semantic_type\": \"\",\n        \"description\": \"\"\n      }\n    },\n    {\n      \"column\": \"s_d3\",\n      \"properties\": {\n        \"dtype\": \"number\",\n        \"std\": null,\n        \"min\": 355,\n        \"max\": 355,\n        \"num_unique_values\": 1,\n        \"samples\": [\n          355\n        ],\n        \"semantic_type\": \"\",\n        \"description\": \"\"\n      }\n    },\n    {\n      \"column\": \"s_d4\",\n      \"properties\": {\n        \"dtype\": \"number\",\n        \"std\": null,\n        \"min\": 314,\n        \"max\": 314,\n        \"num_unique_values\": 1,\n        \"samples\": [\n          314\n        ],\n        \"semantic_type\": \"\",\n        \"description\": \"\"\n      }\n    },\n    {\n      \"column\": \"s_d5\",\n      \"properties\": {\n        \"dtype\": \"number\",\n        \"std\": null,\n        \"min\": 269,\n        \"max\": 269,\n        \"num_unique_values\": 1,\n        \"samples\": [\n          269\n        ],\n        \"semantic_type\": \"\",\n        \"description\": \"\"\n      }\n    },\n    {\n      \"column\": \"s_d6\",\n      \"properties\": {\n        \"dtype\": \"number\",\n        \"std\": null,\n        \"min\": 282,\n        \"max\": 282,\n        \"num_unique_values\": 1,\n        \"samples\": [\n          282\n        ],\n        \"semantic_type\": \"\",\n        \"description\": \"\"\n      }\n    },\n    {\n      \"column\": \"s_d7\",\n      \"properties\": {\n        \"dtype\": \"number\",\n        \"std\": null,\n        \"min\": 362,\n        \"max\": 362,\n        \"num_unique_values\": 1,\n        \"samples\": [\n          362\n        ],\n        \"semantic_type\": \"\",\n        \"description\": \"\"\n      }\n    },\n    {\n      \"column\": \"s_d8\",\n      \"properties\": {\n        \"dtype\": \"number\",\n        \"std\": null,\n        \"min\": 281,\n        \"max\": 281,\n        \"num_unique_values\": 1,\n        \"samples\": [\n          281\n        ],\n        \"semantic_type\": \"\",\n        \"description\": \"\"\n      }\n    },\n    {\n      \"column\": \"s_d9\",\n      \"properties\": {\n        \"dtype\": \"number\",\n        \"std\": null,\n        \"min\": 318,\n        \"max\": 318,\n        \"num_unique_values\": 1,\n        \"samples\": [\n          318\n        ],\n        \"semantic_type\": \"\",\n        \"description\": \"\"\n      }\n    },\n    {\n      \"column\": \"s_d10\",\n      \"properties\": {\n        \"dtype\": \"number\",\n        \"std\": null,\n        \"min\": 309,\n        \"max\": 309,\n        \"num_unique_values\": 1,\n        \"samples\": [\n          309\n        ],\n        \"semantic_type\": \"\",\n        \"description\": \"\"\n      }\n    },\n    {\n      \"column\": \"s_d12\",\n      \"properties\": {\n        \"dtype\": \"number\",\n        \"std\": null,\n        \"min\": 469,\n        \"max\": 469,\n        \"num_unique_values\": 1,\n        \"samples\": [\n          469\n        ],\n        \"semantic_type\": \"\",\n        \"description\": \"\"\n      }\n    }\n  ]\n}"
            }
          },
          "metadata": {},
          "execution_count": 187
        }
      ]
    },
    {
      "cell_type": "code",
      "source": [
        "# defining dataset for layer 173\n",
        "\n",
        "row173 = data.iloc[[173]]\n",
        "\n",
        "row173 = row173.drop(columns = ['Unnamed: 0','s_d16','s_d19','s_d20','s_d23','s_d24','s_d26','s_d28'], axis = 1)\n",
        "\n",
        "row173"
      ],
      "metadata": {
        "colab": {
          "base_uri": "https://localhost:8080/",
          "height": 89
        },
        "outputId": "9c979042-b113-4ca0-fc4e-db7768fc8d37",
        "id": "9qh3huXg0AmT"
      },
      "execution_count": null,
      "outputs": [
        {
          "output_type": "execute_result",
          "data": {
            "text/plain": [
              "     s_d2  s_d3  s_d4  s_d5  s_d6  s_d7  s_d8  s_d9  s_d10  s_d12\n",
              "173   436   371   359   357   298   400   347   409    374    483"
            ],
            "text/html": [
              "\n",
              "  <div id=\"df-8b2a7993-1860-4f93-8477-de45b3911966\" class=\"colab-df-container\">\n",
              "    <div>\n",
              "<style scoped>\n",
              "    .dataframe tbody tr th:only-of-type {\n",
              "        vertical-align: middle;\n",
              "    }\n",
              "\n",
              "    .dataframe tbody tr th {\n",
              "        vertical-align: top;\n",
              "    }\n",
              "\n",
              "    .dataframe thead th {\n",
              "        text-align: right;\n",
              "    }\n",
              "</style>\n",
              "<table border=\"1\" class=\"dataframe\">\n",
              "  <thead>\n",
              "    <tr style=\"text-align: right;\">\n",
              "      <th></th>\n",
              "      <th>s_d2</th>\n",
              "      <th>s_d3</th>\n",
              "      <th>s_d4</th>\n",
              "      <th>s_d5</th>\n",
              "      <th>s_d6</th>\n",
              "      <th>s_d7</th>\n",
              "      <th>s_d8</th>\n",
              "      <th>s_d9</th>\n",
              "      <th>s_d10</th>\n",
              "      <th>s_d12</th>\n",
              "    </tr>\n",
              "  </thead>\n",
              "  <tbody>\n",
              "    <tr>\n",
              "      <th>173</th>\n",
              "      <td>436</td>\n",
              "      <td>371</td>\n",
              "      <td>359</td>\n",
              "      <td>357</td>\n",
              "      <td>298</td>\n",
              "      <td>400</td>\n",
              "      <td>347</td>\n",
              "      <td>409</td>\n",
              "      <td>374</td>\n",
              "      <td>483</td>\n",
              "    </tr>\n",
              "  </tbody>\n",
              "</table>\n",
              "</div>\n",
              "    <div class=\"colab-df-buttons\">\n",
              "\n",
              "  <div class=\"colab-df-container\">\n",
              "    <button class=\"colab-df-convert\" onclick=\"convertToInteractive('df-8b2a7993-1860-4f93-8477-de45b3911966')\"\n",
              "            title=\"Convert this dataframe to an interactive table.\"\n",
              "            style=\"display:none;\">\n",
              "\n",
              "  <svg xmlns=\"http://www.w3.org/2000/svg\" height=\"24px\" viewBox=\"0 -960 960 960\">\n",
              "    <path d=\"M120-120v-720h720v720H120Zm60-500h600v-160H180v160Zm220 220h160v-160H400v160Zm0 220h160v-160H400v160ZM180-400h160v-160H180v160Zm440 0h160v-160H620v160ZM180-180h160v-160H180v160Zm440 0h160v-160H620v160Z\"/>\n",
              "  </svg>\n",
              "    </button>\n",
              "\n",
              "  <style>\n",
              "    .colab-df-container {\n",
              "      display:flex;\n",
              "      gap: 12px;\n",
              "    }\n",
              "\n",
              "    .colab-df-convert {\n",
              "      background-color: #E8F0FE;\n",
              "      border: none;\n",
              "      border-radius: 50%;\n",
              "      cursor: pointer;\n",
              "      display: none;\n",
              "      fill: #1967D2;\n",
              "      height: 32px;\n",
              "      padding: 0 0 0 0;\n",
              "      width: 32px;\n",
              "    }\n",
              "\n",
              "    .colab-df-convert:hover {\n",
              "      background-color: #E2EBFA;\n",
              "      box-shadow: 0px 1px 2px rgba(60, 64, 67, 0.3), 0px 1px 3px 1px rgba(60, 64, 67, 0.15);\n",
              "      fill: #174EA6;\n",
              "    }\n",
              "\n",
              "    .colab-df-buttons div {\n",
              "      margin-bottom: 4px;\n",
              "    }\n",
              "\n",
              "    [theme=dark] .colab-df-convert {\n",
              "      background-color: #3B4455;\n",
              "      fill: #D2E3FC;\n",
              "    }\n",
              "\n",
              "    [theme=dark] .colab-df-convert:hover {\n",
              "      background-color: #434B5C;\n",
              "      box-shadow: 0px 1px 3px 1px rgba(0, 0, 0, 0.15);\n",
              "      filter: drop-shadow(0px 1px 2px rgba(0, 0, 0, 0.3));\n",
              "      fill: #FFFFFF;\n",
              "    }\n",
              "  </style>\n",
              "\n",
              "    <script>\n",
              "      const buttonEl =\n",
              "        document.querySelector('#df-8b2a7993-1860-4f93-8477-de45b3911966 button.colab-df-convert');\n",
              "      buttonEl.style.display =\n",
              "        google.colab.kernel.accessAllowed ? 'block' : 'none';\n",
              "\n",
              "      async function convertToInteractive(key) {\n",
              "        const element = document.querySelector('#df-8b2a7993-1860-4f93-8477-de45b3911966');\n",
              "        const dataTable =\n",
              "          await google.colab.kernel.invokeFunction('convertToInteractive',\n",
              "                                                    [key], {});\n",
              "        if (!dataTable) return;\n",
              "\n",
              "        const docLinkHtml = 'Like what you see? Visit the ' +\n",
              "          '<a target=\"_blank\" href=https://colab.research.google.com/notebooks/data_table.ipynb>data table notebook</a>'\n",
              "          + ' to learn more about interactive tables.';\n",
              "        element.innerHTML = '';\n",
              "        dataTable['output_type'] = 'display_data';\n",
              "        await google.colab.output.renderOutput(dataTable, element);\n",
              "        const docLink = document.createElement('div');\n",
              "        docLink.innerHTML = docLinkHtml;\n",
              "        element.appendChild(docLink);\n",
              "      }\n",
              "    </script>\n",
              "  </div>\n",
              "\n",
              "\n",
              "  <div id=\"id_eafc1c81-a333-4d94-a7de-91b792231dd6\">\n",
              "    <style>\n",
              "      .colab-df-generate {\n",
              "        background-color: #E8F0FE;\n",
              "        border: none;\n",
              "        border-radius: 50%;\n",
              "        cursor: pointer;\n",
              "        display: none;\n",
              "        fill: #1967D2;\n",
              "        height: 32px;\n",
              "        padding: 0 0 0 0;\n",
              "        width: 32px;\n",
              "      }\n",
              "\n",
              "      .colab-df-generate:hover {\n",
              "        background-color: #E2EBFA;\n",
              "        box-shadow: 0px 1px 2px rgba(60, 64, 67, 0.3), 0px 1px 3px 1px rgba(60, 64, 67, 0.15);\n",
              "        fill: #174EA6;\n",
              "      }\n",
              "\n",
              "      [theme=dark] .colab-df-generate {\n",
              "        background-color: #3B4455;\n",
              "        fill: #D2E3FC;\n",
              "      }\n",
              "\n",
              "      [theme=dark] .colab-df-generate:hover {\n",
              "        background-color: #434B5C;\n",
              "        box-shadow: 0px 1px 3px 1px rgba(0, 0, 0, 0.15);\n",
              "        filter: drop-shadow(0px 1px 2px rgba(0, 0, 0, 0.3));\n",
              "        fill: #FFFFFF;\n",
              "      }\n",
              "    </style>\n",
              "    <button class=\"colab-df-generate\" onclick=\"generateWithVariable('row173')\"\n",
              "            title=\"Generate code using this dataframe.\"\n",
              "            style=\"display:none;\">\n",
              "\n",
              "  <svg xmlns=\"http://www.w3.org/2000/svg\" height=\"24px\"viewBox=\"0 0 24 24\"\n",
              "       width=\"24px\">\n",
              "    <path d=\"M7,19H8.4L18.45,9,17,7.55,7,17.6ZM5,21V16.75L18.45,3.32a2,2,0,0,1,2.83,0l1.4,1.43a1.91,1.91,0,0,1,.58,1.4,1.91,1.91,0,0,1-.58,1.4L9.25,21ZM18.45,9,17,7.55Zm-12,3A5.31,5.31,0,0,0,4.9,8.1,5.31,5.31,0,0,0,1,6.5,5.31,5.31,0,0,0,4.9,4.9,5.31,5.31,0,0,0,6.5,1,5.31,5.31,0,0,0,8.1,4.9,5.31,5.31,0,0,0,12,6.5,5.46,5.46,0,0,0,6.5,12Z\"/>\n",
              "  </svg>\n",
              "    </button>\n",
              "    <script>\n",
              "      (() => {\n",
              "      const buttonEl =\n",
              "        document.querySelector('#id_eafc1c81-a333-4d94-a7de-91b792231dd6 button.colab-df-generate');\n",
              "      buttonEl.style.display =\n",
              "        google.colab.kernel.accessAllowed ? 'block' : 'none';\n",
              "\n",
              "      buttonEl.onclick = () => {\n",
              "        google.colab.notebook.generateWithVariable('row173');\n",
              "      }\n",
              "      })();\n",
              "    </script>\n",
              "  </div>\n",
              "\n",
              "    </div>\n",
              "  </div>\n"
            ],
            "application/vnd.google.colaboratory.intrinsic+json": {
              "type": "dataframe",
              "variable_name": "row173",
              "summary": "{\n  \"name\": \"row173\",\n  \"rows\": 1,\n  \"fields\": [\n    {\n      \"column\": \"s_d2\",\n      \"properties\": {\n        \"dtype\": \"number\",\n        \"std\": null,\n        \"min\": 436,\n        \"max\": 436,\n        \"num_unique_values\": 1,\n        \"samples\": [\n          436\n        ],\n        \"semantic_type\": \"\",\n        \"description\": \"\"\n      }\n    },\n    {\n      \"column\": \"s_d3\",\n      \"properties\": {\n        \"dtype\": \"number\",\n        \"std\": null,\n        \"min\": 371,\n        \"max\": 371,\n        \"num_unique_values\": 1,\n        \"samples\": [\n          371\n        ],\n        \"semantic_type\": \"\",\n        \"description\": \"\"\n      }\n    },\n    {\n      \"column\": \"s_d4\",\n      \"properties\": {\n        \"dtype\": \"number\",\n        \"std\": null,\n        \"min\": 359,\n        \"max\": 359,\n        \"num_unique_values\": 1,\n        \"samples\": [\n          359\n        ],\n        \"semantic_type\": \"\",\n        \"description\": \"\"\n      }\n    },\n    {\n      \"column\": \"s_d5\",\n      \"properties\": {\n        \"dtype\": \"number\",\n        \"std\": null,\n        \"min\": 357,\n        \"max\": 357,\n        \"num_unique_values\": 1,\n        \"samples\": [\n          357\n        ],\n        \"semantic_type\": \"\",\n        \"description\": \"\"\n      }\n    },\n    {\n      \"column\": \"s_d6\",\n      \"properties\": {\n        \"dtype\": \"number\",\n        \"std\": null,\n        \"min\": 298,\n        \"max\": 298,\n        \"num_unique_values\": 1,\n        \"samples\": [\n          298\n        ],\n        \"semantic_type\": \"\",\n        \"description\": \"\"\n      }\n    },\n    {\n      \"column\": \"s_d7\",\n      \"properties\": {\n        \"dtype\": \"number\",\n        \"std\": null,\n        \"min\": 400,\n        \"max\": 400,\n        \"num_unique_values\": 1,\n        \"samples\": [\n          400\n        ],\n        \"semantic_type\": \"\",\n        \"description\": \"\"\n      }\n    },\n    {\n      \"column\": \"s_d8\",\n      \"properties\": {\n        \"dtype\": \"number\",\n        \"std\": null,\n        \"min\": 347,\n        \"max\": 347,\n        \"num_unique_values\": 1,\n        \"samples\": [\n          347\n        ],\n        \"semantic_type\": \"\",\n        \"description\": \"\"\n      }\n    },\n    {\n      \"column\": \"s_d9\",\n      \"properties\": {\n        \"dtype\": \"number\",\n        \"std\": null,\n        \"min\": 409,\n        \"max\": 409,\n        \"num_unique_values\": 1,\n        \"samples\": [\n          409\n        ],\n        \"semantic_type\": \"\",\n        \"description\": \"\"\n      }\n    },\n    {\n      \"column\": \"s_d10\",\n      \"properties\": {\n        \"dtype\": \"number\",\n        \"std\": null,\n        \"min\": 374,\n        \"max\": 374,\n        \"num_unique_values\": 1,\n        \"samples\": [\n          374\n        ],\n        \"semantic_type\": \"\",\n        \"description\": \"\"\n      }\n    },\n    {\n      \"column\": \"s_d12\",\n      \"properties\": {\n        \"dtype\": \"number\",\n        \"std\": null,\n        \"min\": 483,\n        \"max\": 483,\n        \"num_unique_values\": 1,\n        \"samples\": [\n          483\n        ],\n        \"semantic_type\": \"\",\n        \"description\": \"\"\n      }\n    }\n  ]\n}"
            }
          },
          "metadata": {},
          "execution_count": 83
        }
      ]
    },
    {
      "cell_type": "code",
      "source": [
        "# defining dataset for layer 200\n",
        "\n",
        "row200 = data.iloc[[200]]\n",
        "\n",
        "row200 = row200.drop(columns = ['Unnamed: 0','s_d16','s_d19','s_d20','s_d23','s_d24','s_d26','s_d28'], axis = 1)\n",
        "\n",
        "row200"
      ],
      "metadata": {
        "colab": {
          "base_uri": "https://localhost:8080/",
          "height": 89
        },
        "outputId": "9c1d6c6a-af0f-4703-9e5a-17643c4f47de",
        "id": "nRMfkcay0Axn"
      },
      "execution_count": null,
      "outputs": [
        {
          "output_type": "execute_result",
          "data": {
            "text/plain": [
              "     s_d2  s_d3  s_d4  s_d5  s_d6  s_d7  s_d8  s_d9  s_d10  s_d12\n",
              "200   616   568   566   544   465   578   500   565    548    684"
            ],
            "text/html": [
              "\n",
              "  <div id=\"df-796fa256-4bcb-4fb0-bbdb-f946edd11383\" class=\"colab-df-container\">\n",
              "    <div>\n",
              "<style scoped>\n",
              "    .dataframe tbody tr th:only-of-type {\n",
              "        vertical-align: middle;\n",
              "    }\n",
              "\n",
              "    .dataframe tbody tr th {\n",
              "        vertical-align: top;\n",
              "    }\n",
              "\n",
              "    .dataframe thead th {\n",
              "        text-align: right;\n",
              "    }\n",
              "</style>\n",
              "<table border=\"1\" class=\"dataframe\">\n",
              "  <thead>\n",
              "    <tr style=\"text-align: right;\">\n",
              "      <th></th>\n",
              "      <th>s_d2</th>\n",
              "      <th>s_d3</th>\n",
              "      <th>s_d4</th>\n",
              "      <th>s_d5</th>\n",
              "      <th>s_d6</th>\n",
              "      <th>s_d7</th>\n",
              "      <th>s_d8</th>\n",
              "      <th>s_d9</th>\n",
              "      <th>s_d10</th>\n",
              "      <th>s_d12</th>\n",
              "    </tr>\n",
              "  </thead>\n",
              "  <tbody>\n",
              "    <tr>\n",
              "      <th>200</th>\n",
              "      <td>616</td>\n",
              "      <td>568</td>\n",
              "      <td>566</td>\n",
              "      <td>544</td>\n",
              "      <td>465</td>\n",
              "      <td>578</td>\n",
              "      <td>500</td>\n",
              "      <td>565</td>\n",
              "      <td>548</td>\n",
              "      <td>684</td>\n",
              "    </tr>\n",
              "  </tbody>\n",
              "</table>\n",
              "</div>\n",
              "    <div class=\"colab-df-buttons\">\n",
              "\n",
              "  <div class=\"colab-df-container\">\n",
              "    <button class=\"colab-df-convert\" onclick=\"convertToInteractive('df-796fa256-4bcb-4fb0-bbdb-f946edd11383')\"\n",
              "            title=\"Convert this dataframe to an interactive table.\"\n",
              "            style=\"display:none;\">\n",
              "\n",
              "  <svg xmlns=\"http://www.w3.org/2000/svg\" height=\"24px\" viewBox=\"0 -960 960 960\">\n",
              "    <path d=\"M120-120v-720h720v720H120Zm60-500h600v-160H180v160Zm220 220h160v-160H400v160Zm0 220h160v-160H400v160ZM180-400h160v-160H180v160Zm440 0h160v-160H620v160ZM180-180h160v-160H180v160Zm440 0h160v-160H620v160Z\"/>\n",
              "  </svg>\n",
              "    </button>\n",
              "\n",
              "  <style>\n",
              "    .colab-df-container {\n",
              "      display:flex;\n",
              "      gap: 12px;\n",
              "    }\n",
              "\n",
              "    .colab-df-convert {\n",
              "      background-color: #E8F0FE;\n",
              "      border: none;\n",
              "      border-radius: 50%;\n",
              "      cursor: pointer;\n",
              "      display: none;\n",
              "      fill: #1967D2;\n",
              "      height: 32px;\n",
              "      padding: 0 0 0 0;\n",
              "      width: 32px;\n",
              "    }\n",
              "\n",
              "    .colab-df-convert:hover {\n",
              "      background-color: #E2EBFA;\n",
              "      box-shadow: 0px 1px 2px rgba(60, 64, 67, 0.3), 0px 1px 3px 1px rgba(60, 64, 67, 0.15);\n",
              "      fill: #174EA6;\n",
              "    }\n",
              "\n",
              "    .colab-df-buttons div {\n",
              "      margin-bottom: 4px;\n",
              "    }\n",
              "\n",
              "    [theme=dark] .colab-df-convert {\n",
              "      background-color: #3B4455;\n",
              "      fill: #D2E3FC;\n",
              "    }\n",
              "\n",
              "    [theme=dark] .colab-df-convert:hover {\n",
              "      background-color: #434B5C;\n",
              "      box-shadow: 0px 1px 3px 1px rgba(0, 0, 0, 0.15);\n",
              "      filter: drop-shadow(0px 1px 2px rgba(0, 0, 0, 0.3));\n",
              "      fill: #FFFFFF;\n",
              "    }\n",
              "  </style>\n",
              "\n",
              "    <script>\n",
              "      const buttonEl =\n",
              "        document.querySelector('#df-796fa256-4bcb-4fb0-bbdb-f946edd11383 button.colab-df-convert');\n",
              "      buttonEl.style.display =\n",
              "        google.colab.kernel.accessAllowed ? 'block' : 'none';\n",
              "\n",
              "      async function convertToInteractive(key) {\n",
              "        const element = document.querySelector('#df-796fa256-4bcb-4fb0-bbdb-f946edd11383');\n",
              "        const dataTable =\n",
              "          await google.colab.kernel.invokeFunction('convertToInteractive',\n",
              "                                                    [key], {});\n",
              "        if (!dataTable) return;\n",
              "\n",
              "        const docLinkHtml = 'Like what you see? Visit the ' +\n",
              "          '<a target=\"_blank\" href=https://colab.research.google.com/notebooks/data_table.ipynb>data table notebook</a>'\n",
              "          + ' to learn more about interactive tables.';\n",
              "        element.innerHTML = '';\n",
              "        dataTable['output_type'] = 'display_data';\n",
              "        await google.colab.output.renderOutput(dataTable, element);\n",
              "        const docLink = document.createElement('div');\n",
              "        docLink.innerHTML = docLinkHtml;\n",
              "        element.appendChild(docLink);\n",
              "      }\n",
              "    </script>\n",
              "  </div>\n",
              "\n",
              "\n",
              "  <div id=\"id_4e584c6e-9a25-4580-b079-8340d70a3a7c\">\n",
              "    <style>\n",
              "      .colab-df-generate {\n",
              "        background-color: #E8F0FE;\n",
              "        border: none;\n",
              "        border-radius: 50%;\n",
              "        cursor: pointer;\n",
              "        display: none;\n",
              "        fill: #1967D2;\n",
              "        height: 32px;\n",
              "        padding: 0 0 0 0;\n",
              "        width: 32px;\n",
              "      }\n",
              "\n",
              "      .colab-df-generate:hover {\n",
              "        background-color: #E2EBFA;\n",
              "        box-shadow: 0px 1px 2px rgba(60, 64, 67, 0.3), 0px 1px 3px 1px rgba(60, 64, 67, 0.15);\n",
              "        fill: #174EA6;\n",
              "      }\n",
              "\n",
              "      [theme=dark] .colab-df-generate {\n",
              "        background-color: #3B4455;\n",
              "        fill: #D2E3FC;\n",
              "      }\n",
              "\n",
              "      [theme=dark] .colab-df-generate:hover {\n",
              "        background-color: #434B5C;\n",
              "        box-shadow: 0px 1px 3px 1px rgba(0, 0, 0, 0.15);\n",
              "        filter: drop-shadow(0px 1px 2px rgba(0, 0, 0, 0.3));\n",
              "        fill: #FFFFFF;\n",
              "      }\n",
              "    </style>\n",
              "    <button class=\"colab-df-generate\" onclick=\"generateWithVariable('row200')\"\n",
              "            title=\"Generate code using this dataframe.\"\n",
              "            style=\"display:none;\">\n",
              "\n",
              "  <svg xmlns=\"http://www.w3.org/2000/svg\" height=\"24px\"viewBox=\"0 0 24 24\"\n",
              "       width=\"24px\">\n",
              "    <path d=\"M7,19H8.4L18.45,9,17,7.55,7,17.6ZM5,21V16.75L18.45,3.32a2,2,0,0,1,2.83,0l1.4,1.43a1.91,1.91,0,0,1,.58,1.4,1.91,1.91,0,0,1-.58,1.4L9.25,21ZM18.45,9,17,7.55Zm-12,3A5.31,5.31,0,0,0,4.9,8.1,5.31,5.31,0,0,0,1,6.5,5.31,5.31,0,0,0,4.9,4.9,5.31,5.31,0,0,0,6.5,1,5.31,5.31,0,0,0,8.1,4.9,5.31,5.31,0,0,0,12,6.5,5.46,5.46,0,0,0,6.5,12Z\"/>\n",
              "  </svg>\n",
              "    </button>\n",
              "    <script>\n",
              "      (() => {\n",
              "      const buttonEl =\n",
              "        document.querySelector('#id_4e584c6e-9a25-4580-b079-8340d70a3a7c button.colab-df-generate');\n",
              "      buttonEl.style.display =\n",
              "        google.colab.kernel.accessAllowed ? 'block' : 'none';\n",
              "\n",
              "      buttonEl.onclick = () => {\n",
              "        google.colab.notebook.generateWithVariable('row200');\n",
              "      }\n",
              "      })();\n",
              "    </script>\n",
              "  </div>\n",
              "\n",
              "    </div>\n",
              "  </div>\n"
            ],
            "application/vnd.google.colaboratory.intrinsic+json": {
              "type": "dataframe",
              "variable_name": "row200",
              "summary": "{\n  \"name\": \"row200\",\n  \"rows\": 1,\n  \"fields\": [\n    {\n      \"column\": \"s_d2\",\n      \"properties\": {\n        \"dtype\": \"number\",\n        \"std\": null,\n        \"min\": 616,\n        \"max\": 616,\n        \"num_unique_values\": 1,\n        \"samples\": [\n          616\n        ],\n        \"semantic_type\": \"\",\n        \"description\": \"\"\n      }\n    },\n    {\n      \"column\": \"s_d3\",\n      \"properties\": {\n        \"dtype\": \"number\",\n        \"std\": null,\n        \"min\": 568,\n        \"max\": 568,\n        \"num_unique_values\": 1,\n        \"samples\": [\n          568\n        ],\n        \"semantic_type\": \"\",\n        \"description\": \"\"\n      }\n    },\n    {\n      \"column\": \"s_d4\",\n      \"properties\": {\n        \"dtype\": \"number\",\n        \"std\": null,\n        \"min\": 566,\n        \"max\": 566,\n        \"num_unique_values\": 1,\n        \"samples\": [\n          566\n        ],\n        \"semantic_type\": \"\",\n        \"description\": \"\"\n      }\n    },\n    {\n      \"column\": \"s_d5\",\n      \"properties\": {\n        \"dtype\": \"number\",\n        \"std\": null,\n        \"min\": 544,\n        \"max\": 544,\n        \"num_unique_values\": 1,\n        \"samples\": [\n          544\n        ],\n        \"semantic_type\": \"\",\n        \"description\": \"\"\n      }\n    },\n    {\n      \"column\": \"s_d6\",\n      \"properties\": {\n        \"dtype\": \"number\",\n        \"std\": null,\n        \"min\": 465,\n        \"max\": 465,\n        \"num_unique_values\": 1,\n        \"samples\": [\n          465\n        ],\n        \"semantic_type\": \"\",\n        \"description\": \"\"\n      }\n    },\n    {\n      \"column\": \"s_d7\",\n      \"properties\": {\n        \"dtype\": \"number\",\n        \"std\": null,\n        \"min\": 578,\n        \"max\": 578,\n        \"num_unique_values\": 1,\n        \"samples\": [\n          578\n        ],\n        \"semantic_type\": \"\",\n        \"description\": \"\"\n      }\n    },\n    {\n      \"column\": \"s_d8\",\n      \"properties\": {\n        \"dtype\": \"number\",\n        \"std\": null,\n        \"min\": 500,\n        \"max\": 500,\n        \"num_unique_values\": 1,\n        \"samples\": [\n          500\n        ],\n        \"semantic_type\": \"\",\n        \"description\": \"\"\n      }\n    },\n    {\n      \"column\": \"s_d9\",\n      \"properties\": {\n        \"dtype\": \"number\",\n        \"std\": null,\n        \"min\": 565,\n        \"max\": 565,\n        \"num_unique_values\": 1,\n        \"samples\": [\n          565\n        ],\n        \"semantic_type\": \"\",\n        \"description\": \"\"\n      }\n    },\n    {\n      \"column\": \"s_d10\",\n      \"properties\": {\n        \"dtype\": \"number\",\n        \"std\": null,\n        \"min\": 548,\n        \"max\": 548,\n        \"num_unique_values\": 1,\n        \"samples\": [\n          548\n        ],\n        \"semantic_type\": \"\",\n        \"description\": \"\"\n      }\n    },\n    {\n      \"column\": \"s_d12\",\n      \"properties\": {\n        \"dtype\": \"number\",\n        \"std\": null,\n        \"min\": 684,\n        \"max\": 684,\n        \"num_unique_values\": 1,\n        \"samples\": [\n          684\n        ],\n        \"semantic_type\": \"\",\n        \"description\": \"\"\n      }\n    }\n  ]\n}"
            }
          },
          "metadata": {},
          "execution_count": 84
        }
      ]
    },
    {
      "cell_type": "code",
      "source": [
        "# defining dataset for layer 100\n",
        "\n",
        "P2_row100 = data.iloc[[100]]\n",
        "\n",
        "P2_row100 = P2_row100.drop(columns = ['Unnamed: 0','s_d19','s_d20','s_d24','s_d26','s_d28'], axis = 1)\n",
        "\n",
        "P2_row100"
      ],
      "metadata": {
        "colab": {
          "base_uri": "https://localhost:8080/",
          "height": 89
        },
        "outputId": "44eee6a8-bb9d-4bba-e0dd-45dd1d2cdd6c",
        "id": "jeL41dFiD22G"
      },
      "execution_count": null,
      "outputs": [
        {
          "output_type": "execute_result",
          "data": {
            "text/plain": [
              "     s_d2  s_d3  s_d4  s_d5  s_d6  s_d7  s_d8  s_d9  s_d10  s_d12  s_d16  \\\n",
              "100   344   355   314   269   282   362   281   318    309    469    478   \n",
              "\n",
              "     s_d23  \n",
              "100    605  "
            ],
            "text/html": [
              "\n",
              "  <div id=\"df-685644d9-503a-4bd7-9dc2-161ca485fdf7\" class=\"colab-df-container\">\n",
              "    <div>\n",
              "<style scoped>\n",
              "    .dataframe tbody tr th:only-of-type {\n",
              "        vertical-align: middle;\n",
              "    }\n",
              "\n",
              "    .dataframe tbody tr th {\n",
              "        vertical-align: top;\n",
              "    }\n",
              "\n",
              "    .dataframe thead th {\n",
              "        text-align: right;\n",
              "    }\n",
              "</style>\n",
              "<table border=\"1\" class=\"dataframe\">\n",
              "  <thead>\n",
              "    <tr style=\"text-align: right;\">\n",
              "      <th></th>\n",
              "      <th>s_d2</th>\n",
              "      <th>s_d3</th>\n",
              "      <th>s_d4</th>\n",
              "      <th>s_d5</th>\n",
              "      <th>s_d6</th>\n",
              "      <th>s_d7</th>\n",
              "      <th>s_d8</th>\n",
              "      <th>s_d9</th>\n",
              "      <th>s_d10</th>\n",
              "      <th>s_d12</th>\n",
              "      <th>s_d16</th>\n",
              "      <th>s_d23</th>\n",
              "    </tr>\n",
              "  </thead>\n",
              "  <tbody>\n",
              "    <tr>\n",
              "      <th>100</th>\n",
              "      <td>344</td>\n",
              "      <td>355</td>\n",
              "      <td>314</td>\n",
              "      <td>269</td>\n",
              "      <td>282</td>\n",
              "      <td>362</td>\n",
              "      <td>281</td>\n",
              "      <td>318</td>\n",
              "      <td>309</td>\n",
              "      <td>469</td>\n",
              "      <td>478</td>\n",
              "      <td>605</td>\n",
              "    </tr>\n",
              "  </tbody>\n",
              "</table>\n",
              "</div>\n",
              "    <div class=\"colab-df-buttons\">\n",
              "\n",
              "  <div class=\"colab-df-container\">\n",
              "    <button class=\"colab-df-convert\" onclick=\"convertToInteractive('df-685644d9-503a-4bd7-9dc2-161ca485fdf7')\"\n",
              "            title=\"Convert this dataframe to an interactive table.\"\n",
              "            style=\"display:none;\">\n",
              "\n",
              "  <svg xmlns=\"http://www.w3.org/2000/svg\" height=\"24px\" viewBox=\"0 -960 960 960\">\n",
              "    <path d=\"M120-120v-720h720v720H120Zm60-500h600v-160H180v160Zm220 220h160v-160H400v160Zm0 220h160v-160H400v160ZM180-400h160v-160H180v160Zm440 0h160v-160H620v160ZM180-180h160v-160H180v160Zm440 0h160v-160H620v160Z\"/>\n",
              "  </svg>\n",
              "    </button>\n",
              "\n",
              "  <style>\n",
              "    .colab-df-container {\n",
              "      display:flex;\n",
              "      gap: 12px;\n",
              "    }\n",
              "\n",
              "    .colab-df-convert {\n",
              "      background-color: #E8F0FE;\n",
              "      border: none;\n",
              "      border-radius: 50%;\n",
              "      cursor: pointer;\n",
              "      display: none;\n",
              "      fill: #1967D2;\n",
              "      height: 32px;\n",
              "      padding: 0 0 0 0;\n",
              "      width: 32px;\n",
              "    }\n",
              "\n",
              "    .colab-df-convert:hover {\n",
              "      background-color: #E2EBFA;\n",
              "      box-shadow: 0px 1px 2px rgba(60, 64, 67, 0.3), 0px 1px 3px 1px rgba(60, 64, 67, 0.15);\n",
              "      fill: #174EA6;\n",
              "    }\n",
              "\n",
              "    .colab-df-buttons div {\n",
              "      margin-bottom: 4px;\n",
              "    }\n",
              "\n",
              "    [theme=dark] .colab-df-convert {\n",
              "      background-color: #3B4455;\n",
              "      fill: #D2E3FC;\n",
              "    }\n",
              "\n",
              "    [theme=dark] .colab-df-convert:hover {\n",
              "      background-color: #434B5C;\n",
              "      box-shadow: 0px 1px 3px 1px rgba(0, 0, 0, 0.15);\n",
              "      filter: drop-shadow(0px 1px 2px rgba(0, 0, 0, 0.3));\n",
              "      fill: #FFFFFF;\n",
              "    }\n",
              "  </style>\n",
              "\n",
              "    <script>\n",
              "      const buttonEl =\n",
              "        document.querySelector('#df-685644d9-503a-4bd7-9dc2-161ca485fdf7 button.colab-df-convert');\n",
              "      buttonEl.style.display =\n",
              "        google.colab.kernel.accessAllowed ? 'block' : 'none';\n",
              "\n",
              "      async function convertToInteractive(key) {\n",
              "        const element = document.querySelector('#df-685644d9-503a-4bd7-9dc2-161ca485fdf7');\n",
              "        const dataTable =\n",
              "          await google.colab.kernel.invokeFunction('convertToInteractive',\n",
              "                                                    [key], {});\n",
              "        if (!dataTable) return;\n",
              "\n",
              "        const docLinkHtml = 'Like what you see? Visit the ' +\n",
              "          '<a target=\"_blank\" href=https://colab.research.google.com/notebooks/data_table.ipynb>data table notebook</a>'\n",
              "          + ' to learn more about interactive tables.';\n",
              "        element.innerHTML = '';\n",
              "        dataTable['output_type'] = 'display_data';\n",
              "        await google.colab.output.renderOutput(dataTable, element);\n",
              "        const docLink = document.createElement('div');\n",
              "        docLink.innerHTML = docLinkHtml;\n",
              "        element.appendChild(docLink);\n",
              "      }\n",
              "    </script>\n",
              "  </div>\n",
              "\n",
              "\n",
              "  <div id=\"id_71cae7e1-a5c7-4f40-8382-73b978454c6b\">\n",
              "    <style>\n",
              "      .colab-df-generate {\n",
              "        background-color: #E8F0FE;\n",
              "        border: none;\n",
              "        border-radius: 50%;\n",
              "        cursor: pointer;\n",
              "        display: none;\n",
              "        fill: #1967D2;\n",
              "        height: 32px;\n",
              "        padding: 0 0 0 0;\n",
              "        width: 32px;\n",
              "      }\n",
              "\n",
              "      .colab-df-generate:hover {\n",
              "        background-color: #E2EBFA;\n",
              "        box-shadow: 0px 1px 2px rgba(60, 64, 67, 0.3), 0px 1px 3px 1px rgba(60, 64, 67, 0.15);\n",
              "        fill: #174EA6;\n",
              "      }\n",
              "\n",
              "      [theme=dark] .colab-df-generate {\n",
              "        background-color: #3B4455;\n",
              "        fill: #D2E3FC;\n",
              "      }\n",
              "\n",
              "      [theme=dark] .colab-df-generate:hover {\n",
              "        background-color: #434B5C;\n",
              "        box-shadow: 0px 1px 3px 1px rgba(0, 0, 0, 0.15);\n",
              "        filter: drop-shadow(0px 1px 2px rgba(0, 0, 0, 0.3));\n",
              "        fill: #FFFFFF;\n",
              "      }\n",
              "    </style>\n",
              "    <button class=\"colab-df-generate\" onclick=\"generateWithVariable('P2_row100')\"\n",
              "            title=\"Generate code using this dataframe.\"\n",
              "            style=\"display:none;\">\n",
              "\n",
              "  <svg xmlns=\"http://www.w3.org/2000/svg\" height=\"24px\"viewBox=\"0 0 24 24\"\n",
              "       width=\"24px\">\n",
              "    <path d=\"M7,19H8.4L18.45,9,17,7.55,7,17.6ZM5,21V16.75L18.45,3.32a2,2,0,0,1,2.83,0l1.4,1.43a1.91,1.91,0,0,1,.58,1.4,1.91,1.91,0,0,1-.58,1.4L9.25,21ZM18.45,9,17,7.55Zm-12,3A5.31,5.31,0,0,0,4.9,8.1,5.31,5.31,0,0,0,1,6.5,5.31,5.31,0,0,0,4.9,4.9,5.31,5.31,0,0,0,6.5,1,5.31,5.31,0,0,0,8.1,4.9,5.31,5.31,0,0,0,12,6.5,5.46,5.46,0,0,0,6.5,12Z\"/>\n",
              "  </svg>\n",
              "    </button>\n",
              "    <script>\n",
              "      (() => {\n",
              "      const buttonEl =\n",
              "        document.querySelector('#id_71cae7e1-a5c7-4f40-8382-73b978454c6b button.colab-df-generate');\n",
              "      buttonEl.style.display =\n",
              "        google.colab.kernel.accessAllowed ? 'block' : 'none';\n",
              "\n",
              "      buttonEl.onclick = () => {\n",
              "        google.colab.notebook.generateWithVariable('P2_row100');\n",
              "      }\n",
              "      })();\n",
              "    </script>\n",
              "  </div>\n",
              "\n",
              "    </div>\n",
              "  </div>\n"
            ],
            "application/vnd.google.colaboratory.intrinsic+json": {
              "type": "dataframe",
              "variable_name": "P2_row100",
              "summary": "{\n  \"name\": \"P2_row100\",\n  \"rows\": 1,\n  \"fields\": [\n    {\n      \"column\": \"s_d2\",\n      \"properties\": {\n        \"dtype\": \"number\",\n        \"std\": null,\n        \"min\": 344,\n        \"max\": 344,\n        \"num_unique_values\": 1,\n        \"samples\": [\n          344\n        ],\n        \"semantic_type\": \"\",\n        \"description\": \"\"\n      }\n    },\n    {\n      \"column\": \"s_d3\",\n      \"properties\": {\n        \"dtype\": \"number\",\n        \"std\": null,\n        \"min\": 355,\n        \"max\": 355,\n        \"num_unique_values\": 1,\n        \"samples\": [\n          355\n        ],\n        \"semantic_type\": \"\",\n        \"description\": \"\"\n      }\n    },\n    {\n      \"column\": \"s_d4\",\n      \"properties\": {\n        \"dtype\": \"number\",\n        \"std\": null,\n        \"min\": 314,\n        \"max\": 314,\n        \"num_unique_values\": 1,\n        \"samples\": [\n          314\n        ],\n        \"semantic_type\": \"\",\n        \"description\": \"\"\n      }\n    },\n    {\n      \"column\": \"s_d5\",\n      \"properties\": {\n        \"dtype\": \"number\",\n        \"std\": null,\n        \"min\": 269,\n        \"max\": 269,\n        \"num_unique_values\": 1,\n        \"samples\": [\n          269\n        ],\n        \"semantic_type\": \"\",\n        \"description\": \"\"\n      }\n    },\n    {\n      \"column\": \"s_d6\",\n      \"properties\": {\n        \"dtype\": \"number\",\n        \"std\": null,\n        \"min\": 282,\n        \"max\": 282,\n        \"num_unique_values\": 1,\n        \"samples\": [\n          282\n        ],\n        \"semantic_type\": \"\",\n        \"description\": \"\"\n      }\n    },\n    {\n      \"column\": \"s_d7\",\n      \"properties\": {\n        \"dtype\": \"number\",\n        \"std\": null,\n        \"min\": 362,\n        \"max\": 362,\n        \"num_unique_values\": 1,\n        \"samples\": [\n          362\n        ],\n        \"semantic_type\": \"\",\n        \"description\": \"\"\n      }\n    },\n    {\n      \"column\": \"s_d8\",\n      \"properties\": {\n        \"dtype\": \"number\",\n        \"std\": null,\n        \"min\": 281,\n        \"max\": 281,\n        \"num_unique_values\": 1,\n        \"samples\": [\n          281\n        ],\n        \"semantic_type\": \"\",\n        \"description\": \"\"\n      }\n    },\n    {\n      \"column\": \"s_d9\",\n      \"properties\": {\n        \"dtype\": \"number\",\n        \"std\": null,\n        \"min\": 318,\n        \"max\": 318,\n        \"num_unique_values\": 1,\n        \"samples\": [\n          318\n        ],\n        \"semantic_type\": \"\",\n        \"description\": \"\"\n      }\n    },\n    {\n      \"column\": \"s_d10\",\n      \"properties\": {\n        \"dtype\": \"number\",\n        \"std\": null,\n        \"min\": 309,\n        \"max\": 309,\n        \"num_unique_values\": 1,\n        \"samples\": [\n          309\n        ],\n        \"semantic_type\": \"\",\n        \"description\": \"\"\n      }\n    },\n    {\n      \"column\": \"s_d12\",\n      \"properties\": {\n        \"dtype\": \"number\",\n        \"std\": null,\n        \"min\": 469,\n        \"max\": 469,\n        \"num_unique_values\": 1,\n        \"samples\": [\n          469\n        ],\n        \"semantic_type\": \"\",\n        \"description\": \"\"\n      }\n    },\n    {\n      \"column\": \"s_d16\",\n      \"properties\": {\n        \"dtype\": \"number\",\n        \"std\": null,\n        \"min\": 478,\n        \"max\": 478,\n        \"num_unique_values\": 1,\n        \"samples\": [\n          478\n        ],\n        \"semantic_type\": \"\",\n        \"description\": \"\"\n      }\n    },\n    {\n      \"column\": \"s_d23\",\n      \"properties\": {\n        \"dtype\": \"number\",\n        \"std\": null,\n        \"min\": 605,\n        \"max\": 605,\n        \"num_unique_values\": 1,\n        \"samples\": [\n          605\n        ],\n        \"semantic_type\": \"\",\n        \"description\": \"\"\n      }\n    }\n  ]\n}"
            }
          },
          "metadata": {},
          "execution_count": 85
        }
      ]
    },
    {
      "cell_type": "code",
      "source": [
        "# defining dataset for layer 173\n",
        "\n",
        "P2_row173 = data.iloc[[173]]\n",
        "\n",
        "P2_row173 = P2_row173.drop(columns = ['Unnamed: 0','s_d19','s_d20','s_d24','s_d26','s_d28'], axis = 1)\n",
        "\n",
        "P2_row173"
      ],
      "metadata": {
        "colab": {
          "base_uri": "https://localhost:8080/",
          "height": 89
        },
        "outputId": "268fe324-5c0c-41b9-89fd-858e8c9479c1",
        "id": "3pu2Bd94D22G"
      },
      "execution_count": null,
      "outputs": [
        {
          "output_type": "execute_result",
          "data": {
            "text/plain": [
              "     s_d2  s_d3  s_d4  s_d5  s_d6  s_d7  s_d8  s_d9  s_d10  s_d12  s_d16  \\\n",
              "173   436   371   359   357   298   400   347   409    374    483    527   \n",
              "\n",
              "     s_d23  \n",
              "173   1700  "
            ],
            "text/html": [
              "\n",
              "  <div id=\"df-1d990f40-a690-48e5-a18b-af1e4ead0e9e\" class=\"colab-df-container\">\n",
              "    <div>\n",
              "<style scoped>\n",
              "    .dataframe tbody tr th:only-of-type {\n",
              "        vertical-align: middle;\n",
              "    }\n",
              "\n",
              "    .dataframe tbody tr th {\n",
              "        vertical-align: top;\n",
              "    }\n",
              "\n",
              "    .dataframe thead th {\n",
              "        text-align: right;\n",
              "    }\n",
              "</style>\n",
              "<table border=\"1\" class=\"dataframe\">\n",
              "  <thead>\n",
              "    <tr style=\"text-align: right;\">\n",
              "      <th></th>\n",
              "      <th>s_d2</th>\n",
              "      <th>s_d3</th>\n",
              "      <th>s_d4</th>\n",
              "      <th>s_d5</th>\n",
              "      <th>s_d6</th>\n",
              "      <th>s_d7</th>\n",
              "      <th>s_d8</th>\n",
              "      <th>s_d9</th>\n",
              "      <th>s_d10</th>\n",
              "      <th>s_d12</th>\n",
              "      <th>s_d16</th>\n",
              "      <th>s_d23</th>\n",
              "    </tr>\n",
              "  </thead>\n",
              "  <tbody>\n",
              "    <tr>\n",
              "      <th>173</th>\n",
              "      <td>436</td>\n",
              "      <td>371</td>\n",
              "      <td>359</td>\n",
              "      <td>357</td>\n",
              "      <td>298</td>\n",
              "      <td>400</td>\n",
              "      <td>347</td>\n",
              "      <td>409</td>\n",
              "      <td>374</td>\n",
              "      <td>483</td>\n",
              "      <td>527</td>\n",
              "      <td>1700</td>\n",
              "    </tr>\n",
              "  </tbody>\n",
              "</table>\n",
              "</div>\n",
              "    <div class=\"colab-df-buttons\">\n",
              "\n",
              "  <div class=\"colab-df-container\">\n",
              "    <button class=\"colab-df-convert\" onclick=\"convertToInteractive('df-1d990f40-a690-48e5-a18b-af1e4ead0e9e')\"\n",
              "            title=\"Convert this dataframe to an interactive table.\"\n",
              "            style=\"display:none;\">\n",
              "\n",
              "  <svg xmlns=\"http://www.w3.org/2000/svg\" height=\"24px\" viewBox=\"0 -960 960 960\">\n",
              "    <path d=\"M120-120v-720h720v720H120Zm60-500h600v-160H180v160Zm220 220h160v-160H400v160Zm0 220h160v-160H400v160ZM180-400h160v-160H180v160Zm440 0h160v-160H620v160ZM180-180h160v-160H180v160Zm440 0h160v-160H620v160Z\"/>\n",
              "  </svg>\n",
              "    </button>\n",
              "\n",
              "  <style>\n",
              "    .colab-df-container {\n",
              "      display:flex;\n",
              "      gap: 12px;\n",
              "    }\n",
              "\n",
              "    .colab-df-convert {\n",
              "      background-color: #E8F0FE;\n",
              "      border: none;\n",
              "      border-radius: 50%;\n",
              "      cursor: pointer;\n",
              "      display: none;\n",
              "      fill: #1967D2;\n",
              "      height: 32px;\n",
              "      padding: 0 0 0 0;\n",
              "      width: 32px;\n",
              "    }\n",
              "\n",
              "    .colab-df-convert:hover {\n",
              "      background-color: #E2EBFA;\n",
              "      box-shadow: 0px 1px 2px rgba(60, 64, 67, 0.3), 0px 1px 3px 1px rgba(60, 64, 67, 0.15);\n",
              "      fill: #174EA6;\n",
              "    }\n",
              "\n",
              "    .colab-df-buttons div {\n",
              "      margin-bottom: 4px;\n",
              "    }\n",
              "\n",
              "    [theme=dark] .colab-df-convert {\n",
              "      background-color: #3B4455;\n",
              "      fill: #D2E3FC;\n",
              "    }\n",
              "\n",
              "    [theme=dark] .colab-df-convert:hover {\n",
              "      background-color: #434B5C;\n",
              "      box-shadow: 0px 1px 3px 1px rgba(0, 0, 0, 0.15);\n",
              "      filter: drop-shadow(0px 1px 2px rgba(0, 0, 0, 0.3));\n",
              "      fill: #FFFFFF;\n",
              "    }\n",
              "  </style>\n",
              "\n",
              "    <script>\n",
              "      const buttonEl =\n",
              "        document.querySelector('#df-1d990f40-a690-48e5-a18b-af1e4ead0e9e button.colab-df-convert');\n",
              "      buttonEl.style.display =\n",
              "        google.colab.kernel.accessAllowed ? 'block' : 'none';\n",
              "\n",
              "      async function convertToInteractive(key) {\n",
              "        const element = document.querySelector('#df-1d990f40-a690-48e5-a18b-af1e4ead0e9e');\n",
              "        const dataTable =\n",
              "          await google.colab.kernel.invokeFunction('convertToInteractive',\n",
              "                                                    [key], {});\n",
              "        if (!dataTable) return;\n",
              "\n",
              "        const docLinkHtml = 'Like what you see? Visit the ' +\n",
              "          '<a target=\"_blank\" href=https://colab.research.google.com/notebooks/data_table.ipynb>data table notebook</a>'\n",
              "          + ' to learn more about interactive tables.';\n",
              "        element.innerHTML = '';\n",
              "        dataTable['output_type'] = 'display_data';\n",
              "        await google.colab.output.renderOutput(dataTable, element);\n",
              "        const docLink = document.createElement('div');\n",
              "        docLink.innerHTML = docLinkHtml;\n",
              "        element.appendChild(docLink);\n",
              "      }\n",
              "    </script>\n",
              "  </div>\n",
              "\n",
              "\n",
              "  <div id=\"id_7e25405d-3f43-48df-a6f6-a7f2ada1c40a\">\n",
              "    <style>\n",
              "      .colab-df-generate {\n",
              "        background-color: #E8F0FE;\n",
              "        border: none;\n",
              "        border-radius: 50%;\n",
              "        cursor: pointer;\n",
              "        display: none;\n",
              "        fill: #1967D2;\n",
              "        height: 32px;\n",
              "        padding: 0 0 0 0;\n",
              "        width: 32px;\n",
              "      }\n",
              "\n",
              "      .colab-df-generate:hover {\n",
              "        background-color: #E2EBFA;\n",
              "        box-shadow: 0px 1px 2px rgba(60, 64, 67, 0.3), 0px 1px 3px 1px rgba(60, 64, 67, 0.15);\n",
              "        fill: #174EA6;\n",
              "      }\n",
              "\n",
              "      [theme=dark] .colab-df-generate {\n",
              "        background-color: #3B4455;\n",
              "        fill: #D2E3FC;\n",
              "      }\n",
              "\n",
              "      [theme=dark] .colab-df-generate:hover {\n",
              "        background-color: #434B5C;\n",
              "        box-shadow: 0px 1px 3px 1px rgba(0, 0, 0, 0.15);\n",
              "        filter: drop-shadow(0px 1px 2px rgba(0, 0, 0, 0.3));\n",
              "        fill: #FFFFFF;\n",
              "      }\n",
              "    </style>\n",
              "    <button class=\"colab-df-generate\" onclick=\"generateWithVariable('P2_row173')\"\n",
              "            title=\"Generate code using this dataframe.\"\n",
              "            style=\"display:none;\">\n",
              "\n",
              "  <svg xmlns=\"http://www.w3.org/2000/svg\" height=\"24px\"viewBox=\"0 0 24 24\"\n",
              "       width=\"24px\">\n",
              "    <path d=\"M7,19H8.4L18.45,9,17,7.55,7,17.6ZM5,21V16.75L18.45,3.32a2,2,0,0,1,2.83,0l1.4,1.43a1.91,1.91,0,0,1,.58,1.4,1.91,1.91,0,0,1-.58,1.4L9.25,21ZM18.45,9,17,7.55Zm-12,3A5.31,5.31,0,0,0,4.9,8.1,5.31,5.31,0,0,0,1,6.5,5.31,5.31,0,0,0,4.9,4.9,5.31,5.31,0,0,0,6.5,1,5.31,5.31,0,0,0,8.1,4.9,5.31,5.31,0,0,0,12,6.5,5.46,5.46,0,0,0,6.5,12Z\"/>\n",
              "  </svg>\n",
              "    </button>\n",
              "    <script>\n",
              "      (() => {\n",
              "      const buttonEl =\n",
              "        document.querySelector('#id_7e25405d-3f43-48df-a6f6-a7f2ada1c40a button.colab-df-generate');\n",
              "      buttonEl.style.display =\n",
              "        google.colab.kernel.accessAllowed ? 'block' : 'none';\n",
              "\n",
              "      buttonEl.onclick = () => {\n",
              "        google.colab.notebook.generateWithVariable('P2_row173');\n",
              "      }\n",
              "      })();\n",
              "    </script>\n",
              "  </div>\n",
              "\n",
              "    </div>\n",
              "  </div>\n"
            ],
            "application/vnd.google.colaboratory.intrinsic+json": {
              "type": "dataframe",
              "variable_name": "P2_row173",
              "summary": "{\n  \"name\": \"P2_row173\",\n  \"rows\": 1,\n  \"fields\": [\n    {\n      \"column\": \"s_d2\",\n      \"properties\": {\n        \"dtype\": \"number\",\n        \"std\": null,\n        \"min\": 436,\n        \"max\": 436,\n        \"num_unique_values\": 1,\n        \"samples\": [\n          436\n        ],\n        \"semantic_type\": \"\",\n        \"description\": \"\"\n      }\n    },\n    {\n      \"column\": \"s_d3\",\n      \"properties\": {\n        \"dtype\": \"number\",\n        \"std\": null,\n        \"min\": 371,\n        \"max\": 371,\n        \"num_unique_values\": 1,\n        \"samples\": [\n          371\n        ],\n        \"semantic_type\": \"\",\n        \"description\": \"\"\n      }\n    },\n    {\n      \"column\": \"s_d4\",\n      \"properties\": {\n        \"dtype\": \"number\",\n        \"std\": null,\n        \"min\": 359,\n        \"max\": 359,\n        \"num_unique_values\": 1,\n        \"samples\": [\n          359\n        ],\n        \"semantic_type\": \"\",\n        \"description\": \"\"\n      }\n    },\n    {\n      \"column\": \"s_d5\",\n      \"properties\": {\n        \"dtype\": \"number\",\n        \"std\": null,\n        \"min\": 357,\n        \"max\": 357,\n        \"num_unique_values\": 1,\n        \"samples\": [\n          357\n        ],\n        \"semantic_type\": \"\",\n        \"description\": \"\"\n      }\n    },\n    {\n      \"column\": \"s_d6\",\n      \"properties\": {\n        \"dtype\": \"number\",\n        \"std\": null,\n        \"min\": 298,\n        \"max\": 298,\n        \"num_unique_values\": 1,\n        \"samples\": [\n          298\n        ],\n        \"semantic_type\": \"\",\n        \"description\": \"\"\n      }\n    },\n    {\n      \"column\": \"s_d7\",\n      \"properties\": {\n        \"dtype\": \"number\",\n        \"std\": null,\n        \"min\": 400,\n        \"max\": 400,\n        \"num_unique_values\": 1,\n        \"samples\": [\n          400\n        ],\n        \"semantic_type\": \"\",\n        \"description\": \"\"\n      }\n    },\n    {\n      \"column\": \"s_d8\",\n      \"properties\": {\n        \"dtype\": \"number\",\n        \"std\": null,\n        \"min\": 347,\n        \"max\": 347,\n        \"num_unique_values\": 1,\n        \"samples\": [\n          347\n        ],\n        \"semantic_type\": \"\",\n        \"description\": \"\"\n      }\n    },\n    {\n      \"column\": \"s_d9\",\n      \"properties\": {\n        \"dtype\": \"number\",\n        \"std\": null,\n        \"min\": 409,\n        \"max\": 409,\n        \"num_unique_values\": 1,\n        \"samples\": [\n          409\n        ],\n        \"semantic_type\": \"\",\n        \"description\": \"\"\n      }\n    },\n    {\n      \"column\": \"s_d10\",\n      \"properties\": {\n        \"dtype\": \"number\",\n        \"std\": null,\n        \"min\": 374,\n        \"max\": 374,\n        \"num_unique_values\": 1,\n        \"samples\": [\n          374\n        ],\n        \"semantic_type\": \"\",\n        \"description\": \"\"\n      }\n    },\n    {\n      \"column\": \"s_d12\",\n      \"properties\": {\n        \"dtype\": \"number\",\n        \"std\": null,\n        \"min\": 483,\n        \"max\": 483,\n        \"num_unique_values\": 1,\n        \"samples\": [\n          483\n        ],\n        \"semantic_type\": \"\",\n        \"description\": \"\"\n      }\n    },\n    {\n      \"column\": \"s_d16\",\n      \"properties\": {\n        \"dtype\": \"number\",\n        \"std\": null,\n        \"min\": 527,\n        \"max\": 527,\n        \"num_unique_values\": 1,\n        \"samples\": [\n          527\n        ],\n        \"semantic_type\": \"\",\n        \"description\": \"\"\n      }\n    },\n    {\n      \"column\": \"s_d23\",\n      \"properties\": {\n        \"dtype\": \"number\",\n        \"std\": null,\n        \"min\": 1700,\n        \"max\": 1700,\n        \"num_unique_values\": 1,\n        \"samples\": [\n          1700\n        ],\n        \"semantic_type\": \"\",\n        \"description\": \"\"\n      }\n    }\n  ]\n}"
            }
          },
          "metadata": {},
          "execution_count": 86
        }
      ]
    },
    {
      "cell_type": "code",
      "source": [
        "# defining dataset for layer 200\n",
        "\n",
        "P2_row200 = data.iloc[[200]]\n",
        "\n",
        "P2_row200 = P2_row200.drop(columns = ['Unnamed: 0','s_d19','s_d20','s_d24','s_d26','s_d28'], axis = 1)\n",
        "\n",
        "P2_row200"
      ],
      "metadata": {
        "colab": {
          "base_uri": "https://localhost:8080/",
          "height": 89
        },
        "outputId": "1cbce909-aded-440d-d241-35855fd8c616",
        "id": "5O1SXZytD22H"
      },
      "execution_count": null,
      "outputs": [
        {
          "output_type": "execute_result",
          "data": {
            "text/plain": [
              "     s_d2  s_d3  s_d4  s_d5  s_d6  s_d7  s_d8  s_d9  s_d10  s_d12  s_d16  \\\n",
              "200   616   568   566   544   465   578   500   565    548    684    750   \n",
              "\n",
              "     s_d23  \n",
              "200   2705  "
            ],
            "text/html": [
              "\n",
              "  <div id=\"df-fd9b9142-91de-4482-bb2a-b5834cb6ef1c\" class=\"colab-df-container\">\n",
              "    <div>\n",
              "<style scoped>\n",
              "    .dataframe tbody tr th:only-of-type {\n",
              "        vertical-align: middle;\n",
              "    }\n",
              "\n",
              "    .dataframe tbody tr th {\n",
              "        vertical-align: top;\n",
              "    }\n",
              "\n",
              "    .dataframe thead th {\n",
              "        text-align: right;\n",
              "    }\n",
              "</style>\n",
              "<table border=\"1\" class=\"dataframe\">\n",
              "  <thead>\n",
              "    <tr style=\"text-align: right;\">\n",
              "      <th></th>\n",
              "      <th>s_d2</th>\n",
              "      <th>s_d3</th>\n",
              "      <th>s_d4</th>\n",
              "      <th>s_d5</th>\n",
              "      <th>s_d6</th>\n",
              "      <th>s_d7</th>\n",
              "      <th>s_d8</th>\n",
              "      <th>s_d9</th>\n",
              "      <th>s_d10</th>\n",
              "      <th>s_d12</th>\n",
              "      <th>s_d16</th>\n",
              "      <th>s_d23</th>\n",
              "    </tr>\n",
              "  </thead>\n",
              "  <tbody>\n",
              "    <tr>\n",
              "      <th>200</th>\n",
              "      <td>616</td>\n",
              "      <td>568</td>\n",
              "      <td>566</td>\n",
              "      <td>544</td>\n",
              "      <td>465</td>\n",
              "      <td>578</td>\n",
              "      <td>500</td>\n",
              "      <td>565</td>\n",
              "      <td>548</td>\n",
              "      <td>684</td>\n",
              "      <td>750</td>\n",
              "      <td>2705</td>\n",
              "    </tr>\n",
              "  </tbody>\n",
              "</table>\n",
              "</div>\n",
              "    <div class=\"colab-df-buttons\">\n",
              "\n",
              "  <div class=\"colab-df-container\">\n",
              "    <button class=\"colab-df-convert\" onclick=\"convertToInteractive('df-fd9b9142-91de-4482-bb2a-b5834cb6ef1c')\"\n",
              "            title=\"Convert this dataframe to an interactive table.\"\n",
              "            style=\"display:none;\">\n",
              "\n",
              "  <svg xmlns=\"http://www.w3.org/2000/svg\" height=\"24px\" viewBox=\"0 -960 960 960\">\n",
              "    <path d=\"M120-120v-720h720v720H120Zm60-500h600v-160H180v160Zm220 220h160v-160H400v160Zm0 220h160v-160H400v160ZM180-400h160v-160H180v160Zm440 0h160v-160H620v160ZM180-180h160v-160H180v160Zm440 0h160v-160H620v160Z\"/>\n",
              "  </svg>\n",
              "    </button>\n",
              "\n",
              "  <style>\n",
              "    .colab-df-container {\n",
              "      display:flex;\n",
              "      gap: 12px;\n",
              "    }\n",
              "\n",
              "    .colab-df-convert {\n",
              "      background-color: #E8F0FE;\n",
              "      border: none;\n",
              "      border-radius: 50%;\n",
              "      cursor: pointer;\n",
              "      display: none;\n",
              "      fill: #1967D2;\n",
              "      height: 32px;\n",
              "      padding: 0 0 0 0;\n",
              "      width: 32px;\n",
              "    }\n",
              "\n",
              "    .colab-df-convert:hover {\n",
              "      background-color: #E2EBFA;\n",
              "      box-shadow: 0px 1px 2px rgba(60, 64, 67, 0.3), 0px 1px 3px 1px rgba(60, 64, 67, 0.15);\n",
              "      fill: #174EA6;\n",
              "    }\n",
              "\n",
              "    .colab-df-buttons div {\n",
              "      margin-bottom: 4px;\n",
              "    }\n",
              "\n",
              "    [theme=dark] .colab-df-convert {\n",
              "      background-color: #3B4455;\n",
              "      fill: #D2E3FC;\n",
              "    }\n",
              "\n",
              "    [theme=dark] .colab-df-convert:hover {\n",
              "      background-color: #434B5C;\n",
              "      box-shadow: 0px 1px 3px 1px rgba(0, 0, 0, 0.15);\n",
              "      filter: drop-shadow(0px 1px 2px rgba(0, 0, 0, 0.3));\n",
              "      fill: #FFFFFF;\n",
              "    }\n",
              "  </style>\n",
              "\n",
              "    <script>\n",
              "      const buttonEl =\n",
              "        document.querySelector('#df-fd9b9142-91de-4482-bb2a-b5834cb6ef1c button.colab-df-convert');\n",
              "      buttonEl.style.display =\n",
              "        google.colab.kernel.accessAllowed ? 'block' : 'none';\n",
              "\n",
              "      async function convertToInteractive(key) {\n",
              "        const element = document.querySelector('#df-fd9b9142-91de-4482-bb2a-b5834cb6ef1c');\n",
              "        const dataTable =\n",
              "          await google.colab.kernel.invokeFunction('convertToInteractive',\n",
              "                                                    [key], {});\n",
              "        if (!dataTable) return;\n",
              "\n",
              "        const docLinkHtml = 'Like what you see? Visit the ' +\n",
              "          '<a target=\"_blank\" href=https://colab.research.google.com/notebooks/data_table.ipynb>data table notebook</a>'\n",
              "          + ' to learn more about interactive tables.';\n",
              "        element.innerHTML = '';\n",
              "        dataTable['output_type'] = 'display_data';\n",
              "        await google.colab.output.renderOutput(dataTable, element);\n",
              "        const docLink = document.createElement('div');\n",
              "        docLink.innerHTML = docLinkHtml;\n",
              "        element.appendChild(docLink);\n",
              "      }\n",
              "    </script>\n",
              "  </div>\n",
              "\n",
              "\n",
              "  <div id=\"id_c55a4ad1-9189-4463-8642-723c14942ffb\">\n",
              "    <style>\n",
              "      .colab-df-generate {\n",
              "        background-color: #E8F0FE;\n",
              "        border: none;\n",
              "        border-radius: 50%;\n",
              "        cursor: pointer;\n",
              "        display: none;\n",
              "        fill: #1967D2;\n",
              "        height: 32px;\n",
              "        padding: 0 0 0 0;\n",
              "        width: 32px;\n",
              "      }\n",
              "\n",
              "      .colab-df-generate:hover {\n",
              "        background-color: #E2EBFA;\n",
              "        box-shadow: 0px 1px 2px rgba(60, 64, 67, 0.3), 0px 1px 3px 1px rgba(60, 64, 67, 0.15);\n",
              "        fill: #174EA6;\n",
              "      }\n",
              "\n",
              "      [theme=dark] .colab-df-generate {\n",
              "        background-color: #3B4455;\n",
              "        fill: #D2E3FC;\n",
              "      }\n",
              "\n",
              "      [theme=dark] .colab-df-generate:hover {\n",
              "        background-color: #434B5C;\n",
              "        box-shadow: 0px 1px 3px 1px rgba(0, 0, 0, 0.15);\n",
              "        filter: drop-shadow(0px 1px 2px rgba(0, 0, 0, 0.3));\n",
              "        fill: #FFFFFF;\n",
              "      }\n",
              "    </style>\n",
              "    <button class=\"colab-df-generate\" onclick=\"generateWithVariable('P2_row200')\"\n",
              "            title=\"Generate code using this dataframe.\"\n",
              "            style=\"display:none;\">\n",
              "\n",
              "  <svg xmlns=\"http://www.w3.org/2000/svg\" height=\"24px\"viewBox=\"0 0 24 24\"\n",
              "       width=\"24px\">\n",
              "    <path d=\"M7,19H8.4L18.45,9,17,7.55,7,17.6ZM5,21V16.75L18.45,3.32a2,2,0,0,1,2.83,0l1.4,1.43a1.91,1.91,0,0,1,.58,1.4,1.91,1.91,0,0,1-.58,1.4L9.25,21ZM18.45,9,17,7.55Zm-12,3A5.31,5.31,0,0,0,4.9,8.1,5.31,5.31,0,0,0,1,6.5,5.31,5.31,0,0,0,4.9,4.9,5.31,5.31,0,0,0,6.5,1,5.31,5.31,0,0,0,8.1,4.9,5.31,5.31,0,0,0,12,6.5,5.46,5.46,0,0,0,6.5,12Z\"/>\n",
              "  </svg>\n",
              "    </button>\n",
              "    <script>\n",
              "      (() => {\n",
              "      const buttonEl =\n",
              "        document.querySelector('#id_c55a4ad1-9189-4463-8642-723c14942ffb button.colab-df-generate');\n",
              "      buttonEl.style.display =\n",
              "        google.colab.kernel.accessAllowed ? 'block' : 'none';\n",
              "\n",
              "      buttonEl.onclick = () => {\n",
              "        google.colab.notebook.generateWithVariable('P2_row200');\n",
              "      }\n",
              "      })();\n",
              "    </script>\n",
              "  </div>\n",
              "\n",
              "    </div>\n",
              "  </div>\n"
            ],
            "application/vnd.google.colaboratory.intrinsic+json": {
              "type": "dataframe",
              "variable_name": "P2_row200",
              "summary": "{\n  \"name\": \"P2_row200\",\n  \"rows\": 1,\n  \"fields\": [\n    {\n      \"column\": \"s_d2\",\n      \"properties\": {\n        \"dtype\": \"number\",\n        \"std\": null,\n        \"min\": 616,\n        \"max\": 616,\n        \"num_unique_values\": 1,\n        \"samples\": [\n          616\n        ],\n        \"semantic_type\": \"\",\n        \"description\": \"\"\n      }\n    },\n    {\n      \"column\": \"s_d3\",\n      \"properties\": {\n        \"dtype\": \"number\",\n        \"std\": null,\n        \"min\": 568,\n        \"max\": 568,\n        \"num_unique_values\": 1,\n        \"samples\": [\n          568\n        ],\n        \"semantic_type\": \"\",\n        \"description\": \"\"\n      }\n    },\n    {\n      \"column\": \"s_d4\",\n      \"properties\": {\n        \"dtype\": \"number\",\n        \"std\": null,\n        \"min\": 566,\n        \"max\": 566,\n        \"num_unique_values\": 1,\n        \"samples\": [\n          566\n        ],\n        \"semantic_type\": \"\",\n        \"description\": \"\"\n      }\n    },\n    {\n      \"column\": \"s_d5\",\n      \"properties\": {\n        \"dtype\": \"number\",\n        \"std\": null,\n        \"min\": 544,\n        \"max\": 544,\n        \"num_unique_values\": 1,\n        \"samples\": [\n          544\n        ],\n        \"semantic_type\": \"\",\n        \"description\": \"\"\n      }\n    },\n    {\n      \"column\": \"s_d6\",\n      \"properties\": {\n        \"dtype\": \"number\",\n        \"std\": null,\n        \"min\": 465,\n        \"max\": 465,\n        \"num_unique_values\": 1,\n        \"samples\": [\n          465\n        ],\n        \"semantic_type\": \"\",\n        \"description\": \"\"\n      }\n    },\n    {\n      \"column\": \"s_d7\",\n      \"properties\": {\n        \"dtype\": \"number\",\n        \"std\": null,\n        \"min\": 578,\n        \"max\": 578,\n        \"num_unique_values\": 1,\n        \"samples\": [\n          578\n        ],\n        \"semantic_type\": \"\",\n        \"description\": \"\"\n      }\n    },\n    {\n      \"column\": \"s_d8\",\n      \"properties\": {\n        \"dtype\": \"number\",\n        \"std\": null,\n        \"min\": 500,\n        \"max\": 500,\n        \"num_unique_values\": 1,\n        \"samples\": [\n          500\n        ],\n        \"semantic_type\": \"\",\n        \"description\": \"\"\n      }\n    },\n    {\n      \"column\": \"s_d9\",\n      \"properties\": {\n        \"dtype\": \"number\",\n        \"std\": null,\n        \"min\": 565,\n        \"max\": 565,\n        \"num_unique_values\": 1,\n        \"samples\": [\n          565\n        ],\n        \"semantic_type\": \"\",\n        \"description\": \"\"\n      }\n    },\n    {\n      \"column\": \"s_d10\",\n      \"properties\": {\n        \"dtype\": \"number\",\n        \"std\": null,\n        \"min\": 548,\n        \"max\": 548,\n        \"num_unique_values\": 1,\n        \"samples\": [\n          548\n        ],\n        \"semantic_type\": \"\",\n        \"description\": \"\"\n      }\n    },\n    {\n      \"column\": \"s_d12\",\n      \"properties\": {\n        \"dtype\": \"number\",\n        \"std\": null,\n        \"min\": 684,\n        \"max\": 684,\n        \"num_unique_values\": 1,\n        \"samples\": [\n          684\n        ],\n        \"semantic_type\": \"\",\n        \"description\": \"\"\n      }\n    },\n    {\n      \"column\": \"s_d16\",\n      \"properties\": {\n        \"dtype\": \"number\",\n        \"std\": null,\n        \"min\": 750,\n        \"max\": 750,\n        \"num_unique_values\": 1,\n        \"samples\": [\n          750\n        ],\n        \"semantic_type\": \"\",\n        \"description\": \"\"\n      }\n    },\n    {\n      \"column\": \"s_d23\",\n      \"properties\": {\n        \"dtype\": \"number\",\n        \"std\": null,\n        \"min\": 2705,\n        \"max\": 2705,\n        \"num_unique_values\": 1,\n        \"samples\": [\n          2705\n        ],\n        \"semantic_type\": \"\",\n        \"description\": \"\"\n      }\n    }\n  ]\n}"
            }
          },
          "metadata": {},
          "execution_count": 87
        }
      ]
    },
    {
      "cell_type": "markdown",
      "source": [
        "##EWMA"
      ],
      "metadata": {
        "id": "GI5fEIckZgLQ"
      }
    },
    {
      "cell_type": "code",
      "source": [
        "class EWMA:\n",
        "    def fit(self,data,lamda,mean):\n",
        "\n",
        "        self.X     = data\n",
        "        self.z     = np.zeros(len(data))\n",
        "        self.lamda = lamda\n",
        "        self.mean  = mean\n",
        "        self.z[0]  = self.mean\n",
        "        for i in range(1,len(self.z)):\n",
        "            self.z[i] = self.lamda*self.X[i] + (1-self.lamda)*self.z[i-1]\n",
        "\n",
        "    def  ControlChart(self,L,sigma):\n",
        "        # L     : usually 3\n",
        "        ucl = np.zeros(len(self.X))\n",
        "        lcl = np.zeros(len(self.X))\n",
        "        I   = np.arange(1,len(self.X)+1)\n",
        "\n",
        "        for i in range(len(self.X)):\n",
        "            ucl[i] = self.mean + L*sigma*np.sqrt((self.lamda / (2 - self.lamda))*(1-(1-self.lamda)**(2*I[i])))\n",
        "            lcl[i] = self.mean - L*sigma*np.sqrt((self.lamda / (2 - self.lamda))*(1-(1-self.lamda)**(2*I[i])))\n",
        "\n",
        "        plt.figure(figsize=(15,5))\n",
        "        plt.plot(self.z,marker=\"o\",color=\"k\",label=\"$Z_i$\")\n",
        "        plt.plot([self.mean]*len(self.X),color=\"k\",alpha=0.35)\n",
        "        plt.plot(ucl,color=\"r\",label=\"UCL {}\".format(ucl[len(ucl)-1].round(2)))\n",
        "        plt.plot(lcl,color=\"r\",label=\"LCL {}\".format(lcl[len(lcl)-1].round(2)))\n",
        "        plt.title(\"EWMA Control Chart\")\n",
        "        plt.legend(loc=\"upper left\")\n",
        "        plt.show()"
      ],
      "metadata": {
        "id": "TJ7EtzWddqcp"
      },
      "execution_count": null,
      "outputs": []
    },
    {
      "cell_type": "markdown",
      "source": [
        "###EWMA Layer 100"
      ],
      "metadata": {
        "id": "Ye2v-eFGjR3s"
      }
    },
    {
      "cell_type": "code",
      "source": [
        "# Define list variable for groups means\n",
        "x_bar = []\n",
        "\n",
        "# Define list variable for groups standard deviation\n",
        "s = []"
      ],
      "metadata": {
        "id": "cLTlFpZper4k"
      },
      "execution_count": null,
      "outputs": []
    },
    {
      "cell_type": "code",
      "source": [
        "row100_array = row100.values\n",
        "\n",
        "row100_array = row100_array.flatten()\n",
        "\n",
        "row100_array"
      ],
      "metadata": {
        "colab": {
          "base_uri": "https://localhost:8080/"
        },
        "id": "gh6vS7oJaVPF",
        "outputId": "3363daee-1de9-4268-d93c-62e736f7a82f"
      },
      "execution_count": null,
      "outputs": [
        {
          "output_type": "execute_result",
          "data": {
            "text/plain": [
              "array([344, 355, 314, 269, 282, 362, 281, 318, 309, 469])"
            ]
          },
          "metadata": {},
          "execution_count": 205
        }
      ]
    },
    {
      "cell_type": "code",
      "source": [
        "row100_array_reshape = np.reshape(row100_array, (5,2))\n",
        "row100_array_reshape"
      ],
      "metadata": {
        "colab": {
          "base_uri": "https://localhost:8080/"
        },
        "id": "WZTHhVX4ekQz",
        "outputId": "2b71d0b5-50d5-4d5d-83a6-8c1f0373926b"
      },
      "execution_count": null,
      "outputs": [
        {
          "output_type": "execute_result",
          "data": {
            "text/plain": [
              "array([[344, 355],\n",
              "       [314, 269],\n",
              "       [282, 362],\n",
              "       [281, 318],\n",
              "       [309, 469]])"
            ]
          },
          "metadata": {},
          "execution_count": 206
        }
      ]
    },
    {
      "cell_type": "code",
      "source": [
        "for group in row100_array_reshape:\n",
        "    x_bar.append(group.mean())\n",
        "    s.append(np.std(group))\n",
        "\n",
        "m=len(x_bar)\n",
        "print('points in plotting dataset, ', m)"
      ],
      "metadata": {
        "colab": {
          "base_uri": "https://localhost:8080/"
        },
        "id": "k553U_M5euK8",
        "outputId": "2a2877eb-a6b2-45ba-e067-da7790cad242"
      },
      "execution_count": null,
      "outputs": [
        {
          "output_type": "stream",
          "name": "stdout",
          "text": [
            "points in plotting dataset,  5\n"
          ]
        }
      ]
    },
    {
      "cell_type": "code",
      "source": [
        "c4=0.7979\n",
        "x_bar_bar=statistics.mean(x_bar)\n",
        "s_bar=statistics.mean(s)\n",
        "sigma_hat=s_bar/c4\n",
        "print('process mean is, ', x_bar_bar)\n",
        "print('process standard deviation is, ', sigma_hat)"
      ],
      "metadata": {
        "colab": {
          "base_uri": "https://localhost:8080/"
        },
        "id": "2OrvrfjbewHo",
        "outputId": "b44a0951-c9e6-4020-fbdc-a38406d93f71"
      },
      "execution_count": null,
      "outputs": [
        {
          "output_type": "stream",
          "name": "stdout",
          "text": [
            "process mean is,  330.3\n",
            "process standard deviation is,  41.73455320215565\n"
          ]
        }
      ]
    },
    {
      "cell_type": "code",
      "source": [
        "row100_array_1 = row100_array_reshape.flatten()"
      ],
      "metadata": {
        "id": "ycHep4YAfUyc"
      },
      "execution_count": null,
      "outputs": []
    },
    {
      "cell_type": "code",
      "source": [
        "row100_array_1"
      ],
      "metadata": {
        "colab": {
          "base_uri": "https://localhost:8080/"
        },
        "id": "Rme3_y8VgM3z",
        "outputId": "c7045526-9296-4197-a8a5-fa53732e8adb"
      },
      "execution_count": null,
      "outputs": [
        {
          "output_type": "execute_result",
          "data": {
            "text/plain": [
              "array([344, 355, 314, 269, 282, 362, 281, 318, 309, 469])"
            ]
          },
          "metadata": {},
          "execution_count": 212
        }
      ]
    },
    {
      "cell_type": "code",
      "source": [
        "chart = EWMA()\n",
        "chart.fit(data=row100_array_1,lamda=0.2,mean=330.3)\n",
        "chart.ControlChart(L=3,sigma=41.73)"
      ],
      "metadata": {
        "colab": {
          "base_uri": "https://localhost:8080/",
          "height": 468
        },
        "id": "Yx7Ai_yRfV0R",
        "outputId": "57f016f7-5c99-48b0-e2ec-8f7367ba563b"
      },
      "execution_count": null,
      "outputs": [
        {
          "output_type": "display_data",
          "data": {
            "text/plain": [
              "<Figure size 1500x500 with 1 Axes>"
            ],
            "image/png": "[encoded data removed]"
          },
          "metadata": {}
        }
      ]
    },
    {
      "cell_type": "code",
      "source": [
        "P2_row100_array = P2_row100.values\n",
        "P2_row100_array"
      ],
      "metadata": {
        "colab": {
          "base_uri": "https://localhost:8080/"
        },
        "id": "BHuz04Gbf68m",
        "outputId": "33402cc9-832b-42c0-9542-5031f0879d52"
      },
      "execution_count": null,
      "outputs": [
        {
          "output_type": "execute_result",
          "data": {
            "text/plain": [
              "array([[344, 355, 314, 269, 282, 362, 281, 318, 309, 469, 478, 605]])"
            ]
          },
          "metadata": {},
          "execution_count": 214
        }
      ]
    },
    {
      "cell_type": "code",
      "source": [
        "P2_row100_array_reshape = np.reshape(P2_row100_array, (6,2))\n",
        "P2_row100_array_reshape"
      ],
      "metadata": {
        "colab": {
          "base_uri": "https://localhost:8080/"
        },
        "id": "TBJZa3UkgqQ_",
        "outputId": "2c1f8f05-284a-4ce7-cb5e-43f7f8ddfcb2"
      },
      "execution_count": null,
      "outputs": [
        {
          "output_type": "execute_result",
          "data": {
            "text/plain": [
              "array([[344, 355],\n",
              "       [314, 269],\n",
              "       [282, 362],\n",
              "       [281, 318],\n",
              "       [309, 469],\n",
              "       [478, 605]])"
            ]
          },
          "metadata": {},
          "execution_count": 215
        }
      ]
    },
    {
      "cell_type": "code",
      "source": [
        "P2_row100_array_1 = P2_row100_array.flatten()\n",
        "P2_row100_array_1"
      ],
      "metadata": {
        "colab": {
          "base_uri": "https://localhost:8080/"
        },
        "id": "lBeeJI_zgfbh",
        "outputId": "f0c9ebc8-98fe-4f0f-d313-3a80be71f663"
      },
      "execution_count": null,
      "outputs": [
        {
          "output_type": "execute_result",
          "data": {
            "text/plain": [
              "array([344, 355, 314, 269, 282, 362, 281, 318, 309, 469, 478, 605])"
            ]
          },
          "metadata": {},
          "execution_count": 216
        }
      ]
    },
    {
      "cell_type": "code",
      "source": [
        "chart = EWMA()\n",
        "chart.fit(data=P2_row100_array_1,lamda=0.2,mean=330.3)\n",
        "chart.ControlChart(L=3,sigma=41.73)"
      ],
      "metadata": {
        "colab": {
          "base_uri": "https://localhost:8080/",
          "height": 468
        },
        "id": "Hzvk6JuVfpST",
        "outputId": "62885620-35b1-463d-e09f-109cb3348bb8"
      },
      "execution_count": null,
      "outputs": [
        {
          "output_type": "display_data",
          "data": {
            "text/plain": [
              "<Figure size 1500x500 with 1 Axes>"
            ],
            "image/png": "[encoded data removed]"
          },
          "metadata": {}
        }
      ]
    },
    {
      "cell_type": "markdown",
      "source": [
        "###EWMA Layer 173"
      ],
      "metadata": {
        "id": "fYtsup0wjV14"
      }
    },
    {
      "cell_type": "code",
      "source": [
        "# Define list variable for groups means\n",
        "x_bar = []\n",
        "\n",
        "# Define list variable for groups standard deviation\n",
        "s = []"
      ],
      "metadata": {
        "id": "EdD_OOBYjokb"
      },
      "execution_count": null,
      "outputs": []
    },
    {
      "cell_type": "code",
      "source": [
        "row173_array = row173.values\n",
        "\n",
        "row173_array = row173_array.flatten()\n",
        "\n",
        "row173_array"
      ],
      "metadata": {
        "colab": {
          "base_uri": "https://localhost:8080/"
        },
        "outputId": "3e8a2d5e-6c04-4784-e10c-14ab0ac9a780",
        "id": "k-1AYXeajokc"
      },
      "execution_count": null,
      "outputs": [
        {
          "output_type": "execute_result",
          "data": {
            "text/plain": [
              "array([436, 371, 359, 357, 298, 400, 347, 409, 374, 483])"
            ]
          },
          "metadata": {},
          "execution_count": 219
        }
      ]
    },
    {
      "cell_type": "code",
      "source": [
        "row173_array_reshape = np.reshape(row173_array, (5,2))\n",
        "row173_array_reshape"
      ],
      "metadata": {
        "colab": {
          "base_uri": "https://localhost:8080/"
        },
        "outputId": "8bdda7e4-63fb-4010-9b80-9bb860494b6e",
        "id": "ffNqUc8Xjokc"
      },
      "execution_count": null,
      "outputs": [
        {
          "output_type": "execute_result",
          "data": {
            "text/plain": [
              "array([[436, 371],\n",
              "       [359, 357],\n",
              "       [298, 400],\n",
              "       [347, 409],\n",
              "       [374, 483]])"
            ]
          },
          "metadata": {},
          "execution_count": 220
        }
      ]
    },
    {
      "cell_type": "code",
      "source": [
        "for group in row173_array_reshape:\n",
        "    x_bar.append(group.mean())\n",
        "    s.append(np.std(group))\n",
        "\n",
        "m=len(x_bar)\n",
        "print('points in plotting dataset, ', m)"
      ],
      "metadata": {
        "colab": {
          "base_uri": "https://localhost:8080/"
        },
        "outputId": "f411b181-ffa5-4ea1-9ae9-70dc399797c2",
        "id": "iE2l3yXdjokc"
      },
      "execution_count": null,
      "outputs": [
        {
          "output_type": "stream",
          "name": "stdout",
          "text": [
            "points in plotting dataset,  10\n"
          ]
        }
      ]
    },
    {
      "cell_type": "code",
      "source": [
        "c4=0.7979\n",
        "x_bar_bar=statistics.mean(x_bar)\n",
        "s_bar=statistics.mean(s)\n",
        "sigma_hat=s_bar/c4\n",
        "print('process mean is, ', x_bar_bar)\n",
        "print('process standard deviation is, ', sigma_hat)"
      ],
      "metadata": {
        "colab": {
          "base_uri": "https://localhost:8080/"
        },
        "outputId": "59028a59-fc16-4115-c4a5-00f3f5134a49",
        "id": "Ft9lmi08jokd"
      },
      "execution_count": null,
      "outputs": [
        {
          "output_type": "stream",
          "name": "stdout",
          "text": [
            "process mean is,  383.4\n",
            "process standard deviation is,  42.61185612232109\n"
          ]
        }
      ]
    },
    {
      "cell_type": "code",
      "source": [
        "row173_array_1 = row173_array_reshape.flatten()"
      ],
      "metadata": {
        "id": "3iasE_5Jjokd"
      },
      "execution_count": null,
      "outputs": []
    },
    {
      "cell_type": "code",
      "source": [
        "row173_array_1"
      ],
      "metadata": {
        "colab": {
          "base_uri": "https://localhost:8080/"
        },
        "outputId": "6b85e42e-158d-4420-b82e-62667aa3307d",
        "id": "HKPJoXpMjokd"
      },
      "execution_count": null,
      "outputs": [
        {
          "output_type": "execute_result",
          "data": {
            "text/plain": [
              "array([436, 371, 359, 357, 298, 400, 347, 409, 374, 483])"
            ]
          },
          "metadata": {},
          "execution_count": 228
        }
      ]
    },
    {
      "cell_type": "code",
      "source": [
        "chart = EWMA()\n",
        "chart.fit(data=row173_array_1,lamda=0.2,mean=x_bar_bar)\n",
        "chart.ControlChart(L=3,sigma=sigma_hat)"
      ],
      "metadata": {
        "colab": {
          "base_uri": "https://localhost:8080/",
          "height": 468
        },
        "outputId": "a1b746db-012d-4535-befe-6d8469f5dab8",
        "id": "OyBp2Sa5joke"
      },
      "execution_count": null,
      "outputs": [
        {
          "output_type": "display_data",
          "data": {
            "text/plain": [
              "<Figure size 1500x500 with 1 Axes>"
            ],
            "image/png": "[encoded data removed]"
          },
          "metadata": {}
        }
      ]
    },
    {
      "cell_type": "code",
      "source": [
        "P2_row173_array = P2_row173.values\n",
        "P2_row173_array"
      ],
      "metadata": {
        "colab": {
          "base_uri": "https://localhost:8080/"
        },
        "outputId": "937cef0c-a23d-4124-82df-5347c1b1cf4a",
        "id": "zYz2e32Cjoke"
      },
      "execution_count": null,
      "outputs": [
        {
          "output_type": "execute_result",
          "data": {
            "text/plain": [
              "array([[ 436,  371,  359,  357,  298,  400,  347,  409,  374,  483,  527,\n",
              "        1700]])"
            ]
          },
          "metadata": {},
          "execution_count": 230
        }
      ]
    },
    {
      "cell_type": "code",
      "source": [
        "P2_row173_array_reshape = np.reshape(P2_row173_array, (6,2))\n",
        "P2_row173_array_reshape"
      ],
      "metadata": {
        "colab": {
          "base_uri": "https://localhost:8080/"
        },
        "outputId": "cf08cfa6-3756-4ea1-fc55-ef4cea6b8931",
        "id": "ppn79EiWjoke"
      },
      "execution_count": null,
      "outputs": [
        {
          "output_type": "execute_result",
          "data": {
            "text/plain": [
              "array([[ 436,  371],\n",
              "       [ 359,  357],\n",
              "       [ 298,  400],\n",
              "       [ 347,  409],\n",
              "       [ 374,  483],\n",
              "       [ 527, 1700]])"
            ]
          },
          "metadata": {},
          "execution_count": 231
        }
      ]
    },
    {
      "cell_type": "code",
      "source": [
        "P2_row173_array_1 = P2_row173_array.flatten()\n",
        "P2_row173_array_1"
      ],
      "metadata": {
        "colab": {
          "base_uri": "https://localhost:8080/"
        },
        "outputId": "9d9817e7-9b4c-446d-a103-95716853b484",
        "id": "4bdUVwBUjoke"
      },
      "execution_count": null,
      "outputs": [
        {
          "output_type": "execute_result",
          "data": {
            "text/plain": [
              "array([ 436,  371,  359,  357,  298,  400,  347,  409,  374,  483,  527,\n",
              "       1700])"
            ]
          },
          "metadata": {},
          "execution_count": 232
        }
      ]
    },
    {
      "cell_type": "code",
      "source": [
        "chart = EWMA()\n",
        "chart.fit(data=P2_row173_array_1,lamda=0.2,mean=x_bar_bar)\n",
        "chart.ControlChart(L=3,sigma=sigma_hat)"
      ],
      "metadata": {
        "colab": {
          "base_uri": "https://localhost:8080/",
          "height": 468
        },
        "outputId": "50002ef5-ba45-48b2-b6c3-50b452e1c3ce",
        "id": "ZTdBFWSqjokf"
      },
      "execution_count": null,
      "outputs": [
        {
          "output_type": "display_data",
          "data": {
            "text/plain": [
              "<Figure size 1500x500 with 1 Axes>"
            ],
            "image/png": "[encoded data removed]"
          },
          "metadata": {}
        }
      ]
    },
    {
      "cell_type": "markdown",
      "source": [
        "###EWMA Layer 200"
      ],
      "metadata": {
        "id": "qsTR8VUGk_o0"
      }
    },
    {
      "cell_type": "code",
      "source": [
        "# Define list variable for groups means\n",
        "x_bar = []\n",
        "\n",
        "# Define list variable for groups standard deviation\n",
        "s = []"
      ],
      "metadata": {
        "id": "zippZDvclKEX"
      },
      "execution_count": null,
      "outputs": []
    },
    {
      "cell_type": "code",
      "source": [
        "row200_array = row200.values\n",
        "\n",
        "row200_array = row200_array.flatten()\n",
        "\n",
        "row200_array"
      ],
      "metadata": {
        "colab": {
          "base_uri": "https://localhost:8080/"
        },
        "outputId": "e545ce97-50ae-44ba-b8e5-a147ba76d534",
        "id": "vuZxL9salKEX"
      },
      "execution_count": null,
      "outputs": [
        {
          "output_type": "execute_result",
          "data": {
            "text/plain": [
              "array([616, 568, 566, 544, 465, 578, 500, 565, 548, 684])"
            ]
          },
          "metadata": {},
          "execution_count": 235
        }
      ]
    },
    {
      "cell_type": "code",
      "source": [
        "row200_array_reshape = np.reshape(row200_array, (5,2))\n",
        "row200_array_reshape"
      ],
      "metadata": {
        "colab": {
          "base_uri": "https://localhost:8080/"
        },
        "outputId": "e30d3752-e3f9-4075-ab3c-6ac431a13ca5",
        "id": "2vCOyq4clKEY"
      },
      "execution_count": null,
      "outputs": [
        {
          "output_type": "execute_result",
          "data": {
            "text/plain": [
              "array([[616, 568],\n",
              "       [566, 544],\n",
              "       [465, 578],\n",
              "       [500, 565],\n",
              "       [548, 684]])"
            ]
          },
          "metadata": {},
          "execution_count": 236
        }
      ]
    },
    {
      "cell_type": "code",
      "source": [
        "for group in row200_array_reshape:\n",
        "    x_bar.append(group.mean())\n",
        "    s.append(np.std(group))\n",
        "\n",
        "m=len(x_bar)\n",
        "print('points in plotting dataset, ', m)"
      ],
      "metadata": {
        "colab": {
          "base_uri": "https://localhost:8080/"
        },
        "outputId": "316e5951-3547-41b0-9a34-7e2cf1071ac5",
        "id": "8XEiKxDIlKEY"
      },
      "execution_count": null,
      "outputs": [
        {
          "output_type": "stream",
          "name": "stdout",
          "text": [
            "points in plotting dataset,  5\n"
          ]
        }
      ]
    },
    {
      "cell_type": "code",
      "source": [
        "c4=0.7979\n",
        "x_bar_bar=statistics.mean(x_bar)\n",
        "s_bar=statistics.mean(s)\n",
        "sigma_hat=s_bar/c4\n",
        "print('process mean is, ', x_bar_bar)\n",
        "print('process standard deviation is, ', sigma_hat)"
      ],
      "metadata": {
        "colab": {
          "base_uri": "https://localhost:8080/"
        },
        "outputId": "8648c00e-459f-4dba-e4c1-0acae10d98a6",
        "id": "NPq1BnAVlKEY"
      },
      "execution_count": null,
      "outputs": [
        {
          "output_type": "stream",
          "name": "stdout",
          "text": [
            "process mean is,  563.4\n",
            "process standard deviation is,  48.12633162050382\n"
          ]
        }
      ]
    },
    {
      "cell_type": "code",
      "source": [
        "row200_array_1 = row200_array_reshape.flatten()"
      ],
      "metadata": {
        "id": "9Vu_6OaglKEZ"
      },
      "execution_count": null,
      "outputs": []
    },
    {
      "cell_type": "code",
      "source": [
        "row200_array_1"
      ],
      "metadata": {
        "colab": {
          "base_uri": "https://localhost:8080/"
        },
        "outputId": "933babbd-f70f-4f62-b4d9-95d931dea7de",
        "id": "W0NKsBW1lKEa"
      },
      "execution_count": null,
      "outputs": [
        {
          "output_type": "execute_result",
          "data": {
            "text/plain": [
              "array([616, 568, 566, 544, 465, 578, 500, 565, 548, 684])"
            ]
          },
          "metadata": {},
          "execution_count": 241
        }
      ]
    },
    {
      "cell_type": "code",
      "source": [
        "chart = EWMA()\n",
        "chart.fit(data=row200_array_1,lamda=0.2,mean=x_bar_bar)\n",
        "chart.ControlChart(L=3,sigma=sigma_hat)"
      ],
      "metadata": {
        "colab": {
          "base_uri": "https://localhost:8080/",
          "height": 468
        },
        "outputId": "697680f0-e4b1-4ce4-a7b0-6ab2f9839ac2",
        "id": "T02lmtehlKEa"
      },
      "execution_count": null,
      "outputs": [
        {
          "output_type": "display_data",
          "data": {
            "text/plain": [
              "<Figure size 1500x500 with 1 Axes>"
            ],
            "image/png": "[encoded data removed]"
          },
          "metadata": {}
        }
      ]
    },
    {
      "cell_type": "code",
      "source": [
        "P2_row200_array = P2_row200.values\n",
        "P2_row200_array"
      ],
      "metadata": {
        "colab": {
          "base_uri": "https://localhost:8080/"
        },
        "outputId": "6c1147f5-aae7-4b04-f55c-68ddf5a15c89",
        "id": "VWND2FPZlKEa"
      },
      "execution_count": null,
      "outputs": [
        {
          "output_type": "execute_result",
          "data": {
            "text/plain": [
              "array([[ 616,  568,  566,  544,  465,  578,  500,  565,  548,  684,  750,\n",
              "        2705]])"
            ]
          },
          "metadata": {},
          "execution_count": 243
        }
      ]
    },
    {
      "cell_type": "code",
      "source": [
        "P2_row200_array_reshape = np.reshape(P2_row200_array, (6,2))\n",
        "P2_row200_array_reshape"
      ],
      "metadata": {
        "colab": {
          "base_uri": "https://localhost:8080/"
        },
        "outputId": "0b2575fa-e5cd-4f55-e518-c50320f204ef",
        "id": "G-iq2QG2lKEa"
      },
      "execution_count": null,
      "outputs": [
        {
          "output_type": "execute_result",
          "data": {
            "text/plain": [
              "array([[ 616,  568],\n",
              "       [ 566,  544],\n",
              "       [ 465,  578],\n",
              "       [ 500,  565],\n",
              "       [ 548,  684],\n",
              "       [ 750, 2705]])"
            ]
          },
          "metadata": {},
          "execution_count": 244
        }
      ]
    },
    {
      "cell_type": "code",
      "source": [
        "P2_row200_array_1 = P2_row200_array.flatten()\n",
        "P2_row200_array_1"
      ],
      "metadata": {
        "colab": {
          "base_uri": "https://localhost:8080/"
        },
        "outputId": "bbcecee1-c3d8-486b-e3fb-746272ab4ae8",
        "id": "4Kefp41NlKEb"
      },
      "execution_count": null,
      "outputs": [
        {
          "output_type": "execute_result",
          "data": {
            "text/plain": [
              "array([ 616,  568,  566,  544,  465,  578,  500,  565,  548,  684,  750,\n",
              "       2705])"
            ]
          },
          "metadata": {},
          "execution_count": 245
        }
      ]
    },
    {
      "cell_type": "code",
      "source": [
        "chart = EWMA()\n",
        "chart.fit(data=P2_row200_array_1,lamda=0.2,mean=x_bar_bar)\n",
        "chart.ControlChart(L=3,sigma=sigma_hat)"
      ],
      "metadata": {
        "colab": {
          "base_uri": "https://localhost:8080/",
          "height": 468
        },
        "outputId": "5b4a0b4b-ab7d-47b7-ebf7-062a60a30b56",
        "id": "2ExgTYazlKEb"
      },
      "execution_count": null,
      "outputs": [
        {
          "output_type": "display_data",
          "data": {
            "text/plain": [
              "<Figure size 1500x500 with 1 Axes>"
            ],
            "image/png": "[encoded data removed]"
          },
          "metadata": {}
        }
      ]
    },
    {
      "cell_type": "markdown",
      "source": [
        "## CUSUM - Mean"
      ],
      "metadata": {
        "id": "-QfJjkM9l8eA"
      }
    },
    {
      "cell_type": "code",
      "source": [
        "class CUSUM:\n",
        "    def fit(self,data, h, k, mu, sigma):\n",
        "\n",
        "        self.X = data\n",
        "        self.cplus = np.zeros(len(data))\n",
        "        self.cminus = np.zeros(len(data))\n",
        "        self.H = h * sigma\n",
        "        self.K = k * sigma\n",
        "        self.mean  = mu\n",
        "        self.sigma = sigma\n",
        "        self.cplus[0]  = 0\n",
        "        self.cminus[0] = 0\n",
        "        for i in range(1,len(self.X)):\n",
        "            self.cplus[i] = max(0, self.X[i] -(self.mean+self.K) + self.cplus[i-1])\n",
        "            self.cminus[i] = max(0, (self.mean-self.K) - self.X[i] + self.cminus[i-1])\n",
        "\n",
        "    def  ControlChart(self):\n",
        "        # all CUSUM parameters will be imported from def fit\n",
        "        ucl = np.zeros(len(self.X))\n",
        "        lcl = np.zeros(len(self.X))\n",
        "        # I   = np.arange(1,len(self.X)+1)\n",
        "\n",
        "        for i in range(len(self.X)):\n",
        "            ucl[i] = self.H\n",
        "            lcl[i] = -1*self.H\n",
        "\n",
        "        plt.figure(figsize=(15,5))\n",
        "        plt.plot(self.cplus,marker=\"o\",color=\"k\",label=\"$C+$\")\n",
        "        plt.plot(-1*self.cminus,marker=\"x\",color=\"k\",label=\"$C-$\")\n",
        "        plt.plot(np.zeros(len(self.X)),color=\"k\",alpha=0.35)\n",
        "        plt.plot(ucl,color=\"r\",label=\"UCL {}\".format(ucl[len(ucl)-1].round(2)))\n",
        "        plt.plot(lcl,color=\"r\",label=\"LCL {}\".format(lcl[len(lcl)-1].round(2)))\n",
        "        plt.title(\"CUSUM Control Chart\")\n",
        "        plt.legend(loc=\"upper left\")\n",
        "        plt.show()"
      ],
      "metadata": {
        "id": "AFJ5LSRImEax"
      },
      "execution_count": null,
      "outputs": []
    },
    {
      "cell_type": "markdown",
      "source": [
        "####CUSUM Layer 100"
      ],
      "metadata": {
        "id": "KV3_9BHwluYg"
      }
    },
    {
      "cell_type": "code",
      "source": [
        "# Define list variable for groups means\n",
        "x_bar = []\n",
        "\n",
        "# Define list variable for groups standard deviation\n",
        "s = []"
      ],
      "metadata": {
        "id": "SpB_mSUAWeIo"
      },
      "execution_count": null,
      "outputs": []
    },
    {
      "cell_type": "code",
      "source": [
        "for group in row100_array_reshape:\n",
        "    x_bar.append(group.mean())\n",
        "    s.append(np.std(group))\n",
        "\n",
        "m=len(x_bar)\n",
        "print('points in plotting dataset, ', m)"
      ],
      "metadata": {
        "colab": {
          "base_uri": "https://localhost:8080/"
        },
        "id": "YTiuDdoyWgpJ",
        "outputId": "6eba866a-03e7-42c4-8b2c-147b56915e50"
      },
      "execution_count": null,
      "outputs": [
        {
          "output_type": "stream",
          "name": "stdout",
          "text": [
            "points in plotting dataset,  5\n"
          ]
        }
      ]
    },
    {
      "cell_type": "code",
      "source": [
        "#c4 is 0.7979 for n=2\n",
        "c4=0.7979\n",
        "x_bar_bar=statistics.mean(x_bar)\n",
        "s_bar=statistics.mean(s)\n",
        "sigma_hat=s_bar/c4\n",
        "print('process mean is, ', x_bar_bar)\n",
        "print('process standard deviation is, ', sigma_hat)"
      ],
      "metadata": {
        "colab": {
          "base_uri": "https://localhost:8080/"
        },
        "id": "wxoTbfBJWior",
        "outputId": "c0475fac-f238-4cd4-b83d-f5c24a5963d8"
      },
      "execution_count": null,
      "outputs": [
        {
          "output_type": "stream",
          "name": "stdout",
          "text": [
            "process mean is,  330.3\n",
            "process standard deviation is,  41.73455320215565\n"
          ]
        }
      ]
    },
    {
      "cell_type": "code",
      "source": [
        "row100_array_1"
      ],
      "metadata": {
        "colab": {
          "base_uri": "https://localhost:8080/"
        },
        "id": "S5M0jQ-fqn55",
        "outputId": "b8bbdc7f-5519-43e7-ae8c-1a369e3041fa"
      },
      "execution_count": null,
      "outputs": [
        {
          "output_type": "execute_result",
          "data": {
            "text/plain": [
              "array([344, 355, 314, 269, 282, 362, 281, 318, 309, 469])"
            ]
          },
          "metadata": {},
          "execution_count": 251
        }
      ]
    },
    {
      "cell_type": "code",
      "source": [
        "chart = CUSUM()\n",
        "chart.fit(data=row100_array_1, h=4.77, k=0.5, mu=x_bar_bar, sigma=sigma_hat)\n",
        "chart.ControlChart()"
      ],
      "metadata": {
        "colab": {
          "base_uri": "https://localhost:8080/",
          "height": 468
        },
        "id": "wfwkgSLzXj3-",
        "outputId": "feb7de39-fca7-4d6d-f3c5-aa46405be7ed"
      },
      "execution_count": null,
      "outputs": [
        {
          "output_type": "display_data",
          "data": {
            "text/plain": [
              "<Figure size 1500x500 with 1 Axes>"
            ],
            "image/png": "[encoded data removed]"
          },
          "metadata": {}
        }
      ]
    },
    {
      "cell_type": "code",
      "source": [
        "chart = CUSUM()\n",
        "chart.fit(data=P2_row100_array_1, h=4.77, k=0.5, mu=x_bar_bar, sigma=sigma_hat)\n",
        "chart.ControlChart()"
      ],
      "metadata": {
        "colab": {
          "base_uri": "https://localhost:8080/",
          "height": 468
        },
        "id": "-MgBYra2dSbj",
        "outputId": "b6e0f6ae-5354-4e6e-fa75-aec1eb1afc44"
      },
      "execution_count": null,
      "outputs": [
        {
          "output_type": "display_data",
          "data": {
            "text/plain": [
              "<Figure size 1500x500 with 1 Axes>"
            ],
            "image/png": "[encoded data removed]"
          },
          "metadata": {}
        }
      ]
    },
    {
      "cell_type": "markdown",
      "source": [
        "####CUSUM Layer 173"
      ],
      "metadata": {
        "id": "xYPoFOJmssqt"
      }
    },
    {
      "cell_type": "code",
      "source": [
        "# Define list variable for groups means\n",
        "x_bar = []\n",
        "\n",
        "# Define list variable for groups standard deviation\n",
        "s = []"
      ],
      "metadata": {
        "id": "ckjTqsg0swxo"
      },
      "execution_count": null,
      "outputs": []
    },
    {
      "cell_type": "code",
      "source": [
        "for group in row173_array_reshape:\n",
        "    x_bar.append(group.mean())\n",
        "    s.append(np.std(group))\n",
        "\n",
        "m=len(x_bar)\n",
        "print('points in plotting dataset, ', m)"
      ],
      "metadata": {
        "colab": {
          "base_uri": "https://localhost:8080/"
        },
        "outputId": "b6be52ae-091f-48c5-f24a-f3d201f26687",
        "id": "sSST03BCswxp"
      },
      "execution_count": null,
      "outputs": [
        {
          "output_type": "stream",
          "name": "stdout",
          "text": [
            "points in plotting dataset,  5\n"
          ]
        }
      ]
    },
    {
      "cell_type": "code",
      "source": [
        "#c4 is 0.7979 for n=2\n",
        "c4=0.7979\n",
        "x_bar_bar=statistics.mean(x_bar)\n",
        "s_bar=statistics.mean(s)\n",
        "sigma_hat=s_bar/c4\n",
        "print('process mean is, ', x_bar_bar)\n",
        "print('process standard deviation is, ', sigma_hat)"
      ],
      "metadata": {
        "colab": {
          "base_uri": "https://localhost:8080/"
        },
        "outputId": "96c76ce7-b758-4ce0-8467-c919554beb26",
        "id": "4Gj6Ntbbswxp"
      },
      "execution_count": null,
      "outputs": [
        {
          "output_type": "stream",
          "name": "stdout",
          "text": [
            "process mean is,  383.4\n",
            "process standard deviation is,  42.61185612232109\n"
          ]
        }
      ]
    },
    {
      "cell_type": "code",
      "source": [
        "row173_array_1"
      ],
      "metadata": {
        "colab": {
          "base_uri": "https://localhost:8080/"
        },
        "outputId": "d68072f8-9763-4ebd-e4f1-30de5a57b714",
        "id": "3n32rr0Rswxq"
      },
      "execution_count": null,
      "outputs": [
        {
          "output_type": "execute_result",
          "data": {
            "text/plain": [
              "array([436, 371, 359, 357, 298, 400, 347, 409, 374, 483])"
            ]
          },
          "metadata": {},
          "execution_count": 257
        }
      ]
    },
    {
      "cell_type": "code",
      "source": [
        "chart = CUSUM()\n",
        "chart.fit(data=row173_array_1, h=4.77, k=0.5, mu=x_bar_bar, sigma=sigma_hat)\n",
        "chart.ControlChart()"
      ],
      "metadata": {
        "colab": {
          "base_uri": "https://localhost:8080/",
          "height": 468
        },
        "outputId": "cb6e4780-6ce6-4f71-82b2-dab53a1fc394",
        "id": "s3p9jP_qswxq"
      },
      "execution_count": null,
      "outputs": [
        {
          "output_type": "display_data",
          "data": {
            "text/plain": [
              "<Figure size 1500x500 with 1 Axes>"
            ],
            "image/png": "[encoded data removed]"
          },
          "metadata": {}
        }
      ]
    },
    {
      "cell_type": "code",
      "source": [
        "chart = CUSUM()\n",
        "chart.fit(data=P2_row173_array_1, h=4.77, k=0.5, mu=x_bar_bar, sigma=sigma_hat)\n",
        "chart.ControlChart()"
      ],
      "metadata": {
        "colab": {
          "base_uri": "https://localhost:8080/",
          "height": 468
        },
        "outputId": "a45867d4-76be-42aa-ef6c-62ce9e60700d",
        "id": "w0qnXN9Hswxr"
      },
      "execution_count": null,
      "outputs": [
        {
          "output_type": "display_data",
          "data": {
            "text/plain": [
              "<Figure size 1500x500 with 1 Axes>"
            ],
            "image/png": "[encoded data removed]"
          },
          "metadata": {}
        }
      ]
    },
    {
      "cell_type": "markdown",
      "source": [
        "####CUSUM Layer 200"
      ],
      "metadata": {
        "id": "vNTFQftOtIOj"
      }
    },
    {
      "cell_type": "code",
      "source": [
        "# Define list variable for groups means\n",
        "x_bar = []\n",
        "\n",
        "# Define list variable for groups standard deviation\n",
        "s = []"
      ],
      "metadata": {
        "id": "d46rceF1tL5r"
      },
      "execution_count": null,
      "outputs": []
    },
    {
      "cell_type": "code",
      "source": [
        "for group in row200_array_reshape:\n",
        "    x_bar.append(group.mean())\n",
        "    s.append(np.std(group))\n",
        "\n",
        "m=len(x_bar)\n",
        "print('points in plotting dataset, ', m)"
      ],
      "metadata": {
        "colab": {
          "base_uri": "https://localhost:8080/"
        },
        "outputId": "5faf455f-ac41-4165-b4b8-3937b5570372",
        "id": "IZAU4uj2tL5s"
      },
      "execution_count": null,
      "outputs": [
        {
          "output_type": "stream",
          "name": "stdout",
          "text": [
            "points in plotting dataset,  5\n"
          ]
        }
      ]
    },
    {
      "cell_type": "code",
      "source": [
        "#c4 is 0.7979 for n=2\n",
        "c4=0.7979\n",
        "x_bar_bar=statistics.mean(x_bar)\n",
        "s_bar=statistics.mean(s)\n",
        "sigma_hat=s_bar/c4\n",
        "print('process mean is, ', x_bar_bar)\n",
        "print('process standard deviation is, ', sigma_hat)"
      ],
      "metadata": {
        "colab": {
          "base_uri": "https://localhost:8080/"
        },
        "outputId": "a30d2521-acc7-4fc0-fd94-0aa4f05d64df",
        "id": "ye2kjR1stL5s"
      },
      "execution_count": null,
      "outputs": [
        {
          "output_type": "stream",
          "name": "stdout",
          "text": [
            "process mean is,  563.4\n",
            "process standard deviation is,  48.12633162050382\n"
          ]
        }
      ]
    },
    {
      "cell_type": "code",
      "source": [
        "row200_array_1"
      ],
      "metadata": {
        "colab": {
          "base_uri": "https://localhost:8080/"
        },
        "outputId": "a0b87899-cd3a-401b-fed2-e6a1620adf26",
        "id": "yeBjb-2XtL5t"
      },
      "execution_count": null,
      "outputs": [
        {
          "output_type": "execute_result",
          "data": {
            "text/plain": [
              "array([616, 568, 566, 544, 465, 578, 500, 565, 548, 684])"
            ]
          },
          "metadata": {},
          "execution_count": 263
        }
      ]
    },
    {
      "cell_type": "code",
      "source": [
        "chart = CUSUM()\n",
        "chart.fit(data=row200_array_1, h=4.77, k=0.5, mu=x_bar_bar, sigma=sigma_hat)\n",
        "chart.ControlChart()"
      ],
      "metadata": {
        "colab": {
          "base_uri": "https://localhost:8080/",
          "height": 468
        },
        "outputId": "6519b74a-3372-4d98-bebb-c3015f3af563",
        "id": "KV03gHoftL5u"
      },
      "execution_count": null,
      "outputs": [
        {
          "output_type": "display_data",
          "data": {
            "text/plain": [
              "<Figure size 1500x500 with 1 Axes>"
            ],
            "image/png": "[encoded data removed]"
          },
          "metadata": {}
        }
      ]
    },
    {
      "cell_type": "code",
      "source": [
        "chart = CUSUM()\n",
        "chart.fit(data=P2_row200_array_1, h=4.77, k=0.5, mu=x_bar_bar, sigma=sigma_hat)\n",
        "chart.ControlChart()"
      ],
      "metadata": {
        "colab": {
          "base_uri": "https://localhost:8080/",
          "height": 468
        },
        "outputId": "44a68794-cfd9-4fea-8bf5-41c664a875fb",
        "id": "NEUUOragtL5u"
      },
      "execution_count": null,
      "outputs": [
        {
          "output_type": "display_data",
          "data": {
            "text/plain": [
              "<Figure size 1500x500 with 1 Axes>"
            ],
            "image/png": "[encoded data removed]"
          },
          "metadata": {}
        }
      ]
    },
    {
      "cell_type": "markdown",
      "source": [
        "## Phase II Descriptive Statistics"
      ],
      "metadata": {
        "id": "wi_99Cu_2h9E"
      }
    },
    {
      "cell_type": "code",
      "source": [
        "mean_value = P2_row100.mean(axis=1)\n",
        "mean_value"
      ],
      "metadata": {
        "colab": {
          "base_uri": "https://localhost:8080/"
        },
        "id": "_kei1ERN2r-A",
        "outputId": "f7e09717-3d19-4ca0-94b0-c0504c9fef8a"
      },
      "execution_count": null,
      "outputs": [
        {
          "output_type": "execute_result",
          "data": {
            "text/plain": [
              "100    365.5\n",
              "dtype: float64"
            ]
          },
          "metadata": {},
          "execution_count": 269
        }
      ]
    },
    {
      "cell_type": "code",
      "source": [
        "stdev = P2_row100.std(axis=1)\n",
        "stdev"
      ],
      "metadata": {
        "colab": {
          "base_uri": "https://localhost:8080/"
        },
        "id": "EfdfQ06D32Zn",
        "outputId": "1d4745d2-6aa7-4c02-de37-13ac32673b69"
      },
      "execution_count": null,
      "outputs": [
        {
          "output_type": "execute_result",
          "data": {
            "text/plain": [
              "100    101.282234\n",
              "dtype: float64"
            ]
          },
          "metadata": {},
          "execution_count": 273
        }
      ]
    },
    {
      "cell_type": "code",
      "source": [
        "mean_value = P2_row173.mean(axis=1)\n",
        "mean_value"
      ],
      "metadata": {
        "colab": {
          "base_uri": "https://localhost:8080/"
        },
        "id": "bOs34ia-3ab-",
        "outputId": "c89961cc-029a-4d6f-ec79-4ba655e649c4"
      },
      "execution_count": null,
      "outputs": [
        {
          "output_type": "execute_result",
          "data": {
            "text/plain": [
              "173    505.083333\n",
              "dtype: float64"
            ]
          },
          "metadata": {},
          "execution_count": 270
        }
      ]
    },
    {
      "cell_type": "code",
      "source": [
        "stdev = P2_row173.std(axis=1)\n",
        "stdev"
      ],
      "metadata": {
        "colab": {
          "base_uri": "https://localhost:8080/"
        },
        "id": "Bvx5DSMM38Hb",
        "outputId": "7efffd11-a4a9-4cf6-c043-e5d69fba7714"
      },
      "execution_count": null,
      "outputs": [
        {
          "output_type": "execute_result",
          "data": {
            "text/plain": [
              "173    381.402307\n",
              "dtype: float64"
            ]
          },
          "metadata": {},
          "execution_count": 274
        }
      ]
    },
    {
      "cell_type": "code",
      "source": [
        "mean_value = P2_row200.mean(axis=1)\n",
        "mean_value"
      ],
      "metadata": {
        "colab": {
          "base_uri": "https://localhost:8080/"
        },
        "id": "UU4cpEq-3xhE",
        "outputId": "aac9e263-d935-4df0-e9ed-b7e02db751f6"
      },
      "execution_count": null,
      "outputs": [
        {
          "output_type": "execute_result",
          "data": {
            "text/plain": [
              "200    757.416667\n",
              "dtype: float64"
            ]
          },
          "metadata": {},
          "execution_count": 272
        }
      ]
    },
    {
      "cell_type": "code",
      "source": [
        "stdev = P2_row200.std(axis=1)\n",
        "stdev"
      ],
      "metadata": {
        "colab": {
          "base_uri": "https://localhost:8080/"
        },
        "id": "2zpYfuch3zIZ",
        "outputId": "8620373f-a635-45d8-b107-81aa0bc4de4b"
      },
      "execution_count": null,
      "outputs": [
        {
          "output_type": "execute_result",
          "data": {
            "text/plain": [
              "200    618.019632\n",
              "dtype: float64"
            ]
          },
          "metadata": {},
          "execution_count": 275
        }
      ]
    },
    {
      "cell_type": "code",
      "source": [],
      "metadata": {
        "id": "pvkv1JrG4Csh"
      },
      "execution_count": null,
      "outputs": []
    }
  ]
}